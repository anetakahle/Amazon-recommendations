{
 "cells": [
  {
   "cell_type": "markdown",
   "source": [
    "# IMPORTS"
   ],
   "metadata": {
    "collapsed": false,
    "pycharm": {
     "name": "#%% md\n"
    }
   }
  },
  {
   "cell_type": "code",
   "execution_count": 2,
   "outputs": [],
   "source": [
    "import sqlite3\n",
    "import pandas as pd\n",
    "import numpy as np\n",
    "import math\n",
    "sqlite3.sqlite_version\n",
    "%matplotlib inline\n",
    "\n",
    "from sklearn.neighbors import NearestNeighbors\n",
    "\n",
    "database = sqlite3.connect('database.sqlite')"
   ],
   "metadata": {
    "collapsed": false,
    "pycharm": {
     "name": "#%%\n"
    }
   }
  },
  {
   "cell_type": "markdown",
   "source": [
    "# DATA CLEANING\n",
    "- seřadíme záznamy podle _ProductId_\n",
    "\n",
    "- odstraníme duplikáty, aby naše výsledky byly bez biasu (velmi podobne produkty, stejne review) - nechavame jen prvni\n",
    "\n",
    "- díváme se na velikost _HelpfulnessNumerator_ a _HelpfulnessDenominator_\n",
    "\n",
    "\n",
    "- vytvoření dictionary _users_products_, kde si pro každého uživatele ukládáme koupené produkty a číselné hodnocení, které jim dal (dictionary kvůli průměrně konstantní časové složitosti dotazu)"
   ],
   "metadata": {
    "collapsed": false,
    "pycharm": {
     "name": "#%% md\n"
    }
   }
  },
  {
   "cell_type": "code",
   "execution_count": 3,
   "outputs": [
    {
     "data": {
      "text/plain": "        Id   ProductId          UserId                      ProfileName  \\\n0        1  B001E4KFG0  A3SGXH7AUHU8GW                       delmartian   \n1        2  B00813GRG4  A1D87F6ZCVE5NK                           dll pa   \n2        3  B000LQOCH0   ABXLMWJIXXAIN  Natalia Corres \"Natalia Corres\"   \n3        4  B000UA0QIQ  A395BORC6FGVXV                             Karl   \n4        5  B006K2ZZ7K  A1UQRSCLF8GW1T    Michael D. Bigham \"M. Wassir\"   \n...    ...         ...             ...                              ...   \n5995  5996  B000I6PXLC  A1EWO3RDAXB4VO                          J. OTTO   \n5996  5997  B003SE52K8   AXSV7TB3PCP95                     Linda Morton   \n5997  5998  B003SE52K8  A14JSPGLFT4C68                      Brian Field   \n5998  5999  B003SE52K8   AHDUT7IGZW7HY         AlleyCat Advocat \"Laure\"   \n5999  6000  B003SE52K8   AJNSMUB2HU1M8                        WGC \"WGC\"   \n\n      HelpfulnessNumerator  HelpfulnessDenominator  Score        Time  \\\n0                        1                       1      5  1303862400   \n1                        0                       0      1  1346976000   \n2                        1                       1      4  1219017600   \n3                        3                       3      2  1307923200   \n4                        0                       0      5  1350777600   \n...                    ...                     ...    ...         ...   \n5995                     1                       7      1  1278720000   \n5996                     5                       5      5  1313280000   \n5997                     4                       4      5  1331596800   \n5998                     4                       4      5  1312761600   \n5999                     1                       1      5  1335398400   \n\n                                             Summary  \\\n0                              Good Quality Dog Food   \n1                                  Not as Advertised   \n2                              \"Delight\" says it all   \n3                                     Cough Medicine   \n4                                        Great taffy   \n...                                              ...   \n5995                          This is not that great   \n5996     The \"paws down\" favorite among canned food!   \n5997                         Worked great for my cat   \n5998  IBD food that my cat will actually eat!!!!!!!!   \n5999                pleased with this recommendation   \n\n                                                   Text  \n0     I have bought several of the Vitality canned d...  \n1     Product arrived labeled as Jumbo Salted Peanut...  \n2     This is a confection that has been around a fe...  \n3     If you are looking for the secret ingredient i...  \n4     Great taffy at a great price.  There was a wid...  \n...                                                 ...  \n5995  You have to put a lot of sugar in  this to mak...  \n5996  My female Pixie Bob cat, Pawnee, is extremely ...  \n5997  This is a great food and my cat loves it! The ...  \n5998  I was at my wits end with hypoallergenic foods...  \n5999  We tried all flavors for our cats and the rabb...  \n\n[6000 rows x 10 columns]",
      "text/html": "<div>\n<style scoped>\n    .dataframe tbody tr th:only-of-type {\n        vertical-align: middle;\n    }\n\n    .dataframe tbody tr th {\n        vertical-align: top;\n    }\n\n    .dataframe thead th {\n        text-align: right;\n    }\n</style>\n<table border=\"1\" class=\"dataframe\">\n  <thead>\n    <tr style=\"text-align: right;\">\n      <th></th>\n      <th>Id</th>\n      <th>ProductId</th>\n      <th>UserId</th>\n      <th>ProfileName</th>\n      <th>HelpfulnessNumerator</th>\n      <th>HelpfulnessDenominator</th>\n      <th>Score</th>\n      <th>Time</th>\n      <th>Summary</th>\n      <th>Text</th>\n    </tr>\n  </thead>\n  <tbody>\n    <tr>\n      <th>0</th>\n      <td>1</td>\n      <td>B001E4KFG0</td>\n      <td>A3SGXH7AUHU8GW</td>\n      <td>delmartian</td>\n      <td>1</td>\n      <td>1</td>\n      <td>5</td>\n      <td>1303862400</td>\n      <td>Good Quality Dog Food</td>\n      <td>I have bought several of the Vitality canned d...</td>\n    </tr>\n    <tr>\n      <th>1</th>\n      <td>2</td>\n      <td>B00813GRG4</td>\n      <td>A1D87F6ZCVE5NK</td>\n      <td>dll pa</td>\n      <td>0</td>\n      <td>0</td>\n      <td>1</td>\n      <td>1346976000</td>\n      <td>Not as Advertised</td>\n      <td>Product arrived labeled as Jumbo Salted Peanut...</td>\n    </tr>\n    <tr>\n      <th>2</th>\n      <td>3</td>\n      <td>B000LQOCH0</td>\n      <td>ABXLMWJIXXAIN</td>\n      <td>Natalia Corres \"Natalia Corres\"</td>\n      <td>1</td>\n      <td>1</td>\n      <td>4</td>\n      <td>1219017600</td>\n      <td>\"Delight\" says it all</td>\n      <td>This is a confection that has been around a fe...</td>\n    </tr>\n    <tr>\n      <th>3</th>\n      <td>4</td>\n      <td>B000UA0QIQ</td>\n      <td>A395BORC6FGVXV</td>\n      <td>Karl</td>\n      <td>3</td>\n      <td>3</td>\n      <td>2</td>\n      <td>1307923200</td>\n      <td>Cough Medicine</td>\n      <td>If you are looking for the secret ingredient i...</td>\n    </tr>\n    <tr>\n      <th>4</th>\n      <td>5</td>\n      <td>B006K2ZZ7K</td>\n      <td>A1UQRSCLF8GW1T</td>\n      <td>Michael D. Bigham \"M. Wassir\"</td>\n      <td>0</td>\n      <td>0</td>\n      <td>5</td>\n      <td>1350777600</td>\n      <td>Great taffy</td>\n      <td>Great taffy at a great price.  There was a wid...</td>\n    </tr>\n    <tr>\n      <th>...</th>\n      <td>...</td>\n      <td>...</td>\n      <td>...</td>\n      <td>...</td>\n      <td>...</td>\n      <td>...</td>\n      <td>...</td>\n      <td>...</td>\n      <td>...</td>\n      <td>...</td>\n    </tr>\n    <tr>\n      <th>5995</th>\n      <td>5996</td>\n      <td>B000I6PXLC</td>\n      <td>A1EWO3RDAXB4VO</td>\n      <td>J. OTTO</td>\n      <td>1</td>\n      <td>7</td>\n      <td>1</td>\n      <td>1278720000</td>\n      <td>This is not that great</td>\n      <td>You have to put a lot of sugar in  this to mak...</td>\n    </tr>\n    <tr>\n      <th>5996</th>\n      <td>5997</td>\n      <td>B003SE52K8</td>\n      <td>AXSV7TB3PCP95</td>\n      <td>Linda Morton</td>\n      <td>5</td>\n      <td>5</td>\n      <td>5</td>\n      <td>1313280000</td>\n      <td>The \"paws down\" favorite among canned food!</td>\n      <td>My female Pixie Bob cat, Pawnee, is extremely ...</td>\n    </tr>\n    <tr>\n      <th>5997</th>\n      <td>5998</td>\n      <td>B003SE52K8</td>\n      <td>A14JSPGLFT4C68</td>\n      <td>Brian Field</td>\n      <td>4</td>\n      <td>4</td>\n      <td>5</td>\n      <td>1331596800</td>\n      <td>Worked great for my cat</td>\n      <td>This is a great food and my cat loves it! The ...</td>\n    </tr>\n    <tr>\n      <th>5998</th>\n      <td>5999</td>\n      <td>B003SE52K8</td>\n      <td>AHDUT7IGZW7HY</td>\n      <td>AlleyCat Advocat \"Laure\"</td>\n      <td>4</td>\n      <td>4</td>\n      <td>5</td>\n      <td>1312761600</td>\n      <td>IBD food that my cat will actually eat!!!!!!!!</td>\n      <td>I was at my wits end with hypoallergenic foods...</td>\n    </tr>\n    <tr>\n      <th>5999</th>\n      <td>6000</td>\n      <td>B003SE52K8</td>\n      <td>AJNSMUB2HU1M8</td>\n      <td>WGC \"WGC\"</td>\n      <td>1</td>\n      <td>1</td>\n      <td>5</td>\n      <td>1335398400</td>\n      <td>pleased with this recommendation</td>\n      <td>We tried all flavors for our cats and the rabb...</td>\n    </tr>\n  </tbody>\n</table>\n<p>6000 rows × 10 columns</p>\n</div>"
     },
     "execution_count": 3,
     "metadata": {},
     "output_type": "execute_result"
    }
   ],
   "source": [
    "df = pd.read_sql_query(\"select * from Reviews limit 6000\", database)\n",
    "df"
   ],
   "metadata": {
    "collapsed": false,
    "pycharm": {
     "name": "#%%\n"
    }
   }
  },
  {
   "cell_type": "code",
   "execution_count": 4,
   "outputs": [
    {
     "data": {
      "text/plain": "(5978, 10)"
     },
     "execution_count": 4,
     "metadata": {},
     "output_type": "execute_result"
    }
   ],
   "source": [
    "#Deduplication of entries\n",
    "df = df.drop_duplicates(subset={\"UserId\",\"ProfileName\",\"Time\",\"Text\"}, keep='first')\n",
    "df.shape"
   ],
   "metadata": {
    "collapsed": false,
    "pycharm": {
     "name": "#%%\n"
    }
   }
  },
  {
   "cell_type": "code",
   "execution_count": 5,
   "outputs": [],
   "source": [
    "df = df[df.HelpfulnessNumerator<=df.HelpfulnessDenominator]"
   ],
   "metadata": {
    "collapsed": false,
    "pycharm": {
     "name": "#%%\n"
    }
   }
  },
  {
   "cell_type": "code",
   "execution_count": 6,
   "outputs": [
    {
     "data": {
      "text/plain": "{'A3SGXH7AUHU8GW': [['B001E4KFG0', 5]],\n 'A1D87F6ZCVE5NK': [['B00813GRG4', 1]],\n 'ABXLMWJIXXAIN': [['B000LQOCH0', 4]],\n 'A395BORC6FGVXV': [['B000UA0QIQ', 2]],\n 'A1UQRSCLF8GW1T': [['B006K2ZZ7K', 5]],\n 'ADT0SRK1MGOEU': [['B006K2ZZ7K', 4]],\n 'A1SP2KVKFXXRU1': [['B006K2ZZ7K', 5]],\n 'A3JRGQVEQN31IQ': [['B006K2ZZ7K', 5]],\n 'A1MZYO9TZK0BBI': [['B000E7L2R4', 5]],\n 'A21BT40VZCCYT4': [['B00171APVA', 5]],\n 'A3HDKO7OW0QNK4': [['B0001PB9FE', 5]],\n 'A2725IB4YY9JEB': [['B0009XLVG0', 5], ['B001L1KH6Y', 5]],\n 'A327PCT23YH90': [['B0009XLVG0', 1]],\n 'A18ECVX2RJ7HUE': [['B001GVISJM', 4]],\n 'A2MUGFV2TDQ47K': [['B001GVISJM', 5],\n  ['B000G6RYNE', 3],\n  ['B001CWZXIY', 5],\n  ['B00139TT72', 5]],\n 'A1CZX3CP8IKQIJ': [['B001GVISJM', 5]],\n 'A3KLWF6WQ5BNYO': [['B001GVISJM', 2]],\n 'AFKW14U97Z6QO': [['B001GVISJM', 5]],\n 'A2A9X58G2GTBLP': [['B001GVISJM', 5]],\n 'A3IV7CL2C13K2U': [['B001GVISJM', 5]],\n 'A1WO0KGLPR5PV6': [['B001GVISJM', 5]],\n 'AZOF9E17RGZH8': [['B001GVISJM', 5]],\n 'ARYVQL4N737A1': [['B001GVISJM', 5]],\n 'AJ613OLZZUG7V': [['B001GVISJM', 5]],\n 'A22P2J09NJ9HKE': [['B001GVISJM', 5]],\n 'A3FONPR03H3PJS': [['B001GVISJM', 5]],\n 'A3RXAU2N8KV45G': [['B001GVISJM', 1]],\n 'AAAS38B98HMIK': [['B001GVISJM', 4]],\n 'A2F4LZVGFLD1OB': [['B00144C10S', 5]],\n 'AFM0O9480F04W': [['B003F6UO7K', 5]],\n 'A31OQO709M20Y7': [['B003F6UO7K', 5]],\n 'AOVROBZ8BNTP7': [['B001EO5QW8', 4]],\n 'A3PMM0NFVEJGK9': [['B001EO5QW8', 4]],\n 'A2EB6OGOWCRU5H': [['B001EO5QW8', 5]],\n 'A2CI0RLADCRKPF': [['B001EO5QW8', 4]],\n 'A1MYS9LFFBIYKM': [['B001EO5QW8', 5]],\n 'A3MGP2E1ZZ6GRB': [['B001EO5QW8', 5]],\n 'A2GHZ2UTV2B0CD': [['B001EO5QW8', 4]],\n 'AO80AC8313NIZ': [['B001EO5QW8', 5]],\n 'AQCY5KRO7489S': [['B001EO5QW8', 5]],\n 'A1WK4ALVZDYPUE': [['B001EO5QW8', 5]],\n 'A16XFOYQSJREL7': [['B001EO5QW8', 5]],\n 'A17DW6SUOC70DJ': [['B001EO5QW8', 5]],\n 'A2G7B7FKP2O2PU': [['B001EO5QW8', 5]],\n 'A39Z97950MCTQE': [['B001EO5QW8', 3]],\n 'AQLL2R1PPR46X': [['B001EO5QW8', 5], ['B001RVFDOO', 5]],\n 'A26AY1TFK8BQXQ': [['B001EO5QW8', 3]],\n 'ALOR97KTZTK1P': [['B001EO5QW8', 4]],\n 'A276999Y6VRSCQ': [['B001EO5QW8', 3]],\n 'A108P30XVUFKXY': [['B001EO5QW8', 1]],\n 'A3S5KJDA6ED2PS': [['B000G6RPMY', 5]],\n 'A9L6L5H9BPEBO': [['B000G6RPMY', 4]],\n 'AQ9DWWYP2KJCQ': [['B000G6RPMY', 3]],\n 'A1ND7WC5LXOU48': [['B002GWHC0G', 4]],\n 'A2EFAW1P3DRXWO': [['B002GWHC0G', 5]],\n 'A202WR509428VF': [['B004N5KULM', 5]],\n 'ASCNNAJU6SXF8': [['B004N5KULM', 5]],\n 'A2A7KXM9B4XW90': [['B004N5KULM', 5]],\n 'A2QOGOXPOVKAJG': [['B004N5KULM', 5]],\n 'A1ZR8O62VSU4OK': [['B004N5KULM', 3]],\n 'A7ZK2A3VIW7X9': [['B004N5KULM', 5]],\n 'A1E09XGZUR78C6': [['B001EO5TPM', 1]],\n 'A3HR0ZZOFKQ97N': [['B005DUM9UQ', 5]],\n 'A2XIHNXODNZGV4': [['B005DUM9UQ', 5]],\n 'A3TWF9DQ6MU87E': [['B005DUM9UQ', 5]],\n 'AEFIZIJ1FK1BK': [['B005DUM9UQ', 5]],\n 'A8OFFIAL6XTOH': [['B005DUM9UQ', 2]],\n 'A1KL2LAW08X6UQ': [['B000E7VI7S', 3]],\n 'AWCBF2ZWIN57F': [['B000E7VI7S', 5]],\n 'A27TKQHFW0FB5N': [['B001GVISJC', 5]],\n 'A3BDOAPSF96WGQ': [['B001GVISJC', 5]],\n 'ATYMT48R62ENE': [['B006SQBRMA', 5]],\n 'A25VFHVGI4CFTP': [['B0059WXJKM', 1]],\n 'A3Q0IDQ03S0158': [['B001EPPI84', 2]],\n 'A27TZ4WBU7N0YF': [['B001EPPI84', 1]],\n 'A2W3ABLWMJ84NS': [['B004X2KR36', 5]],\n 'A26M5O53PHZTKN': [['B004X2KR36', 5], ['B000FDKQCY', 5]],\n 'A2AB7M9UCNBVN7': [['B004X2KR36', 3]],\n 'A3H1EQD2PBC085': [['B005R8JE8O', 5]],\n 'AB30HQTI5VOLR': [['B0066DMI6Y', 5]],\n 'AZLONLC8OZPEC': [['B0066DMI6Y', 4]],\n 'A2VOZX7YBT0D6D': [['B003ZFRKGO', 5]],\n 'A1FD9E5C06UB6B': [['B0019CW0HE', 3]],\n 'AK2CXHH9VRZ2A': [['B0019CW0HE', 3]],\n 'A25BGFRHYHEZKK': [['B0019CW0HE', 5]],\n 'A37N9XZBB8JYOF': [['B0019CW0HE', 5]],\n 'A1T4L0Q47OZ9N': [['B0019CW0HE', 5]],\n 'A3IMXZE9FCUNOC': [['B0019CW0HE', 5]],\n 'A1EC57S6C2VLTL': [['B0019CW0HE', 5]],\n 'A1OGD72Y2Y26CF': [['B0019CW0HE', 5]],\n 'A7JWCYVPF7KCO': [['B0019CW0HE', 5]],\n 'ABG53EBZBKD23': [['B0019CW0HE', 5]],\n 'A3AF72GP4GVRY1': [['B0019CW0HE', 5]],\n 'A1DJAAKLPCJRZD': [['B0019CW0HE', 5]],\n 'A1BFNM27629VAV': [['B0019CW0HE', 5]],\n 'A18AAABCIJKC5Q': [['B0019CW0HE', 5]],\n 'A3UII2114114PI': [['B0019CW0HE', 5]],\n 'ABZ9F0D94YK45': [['B0019CW0HE', 5]],\n 'A2P6ACFZ8FTNVV': [['B0019CW0HE', 1]],\n 'A1SYSKR79LA2CB': [['B004K2IHUO', 5]],\n 'A3D1TXE98KRKYO': [['B004K2IHUO', 4]],\n 'AVCA516CFZ9HF': [['B004K2IHUO', 4], ['B005O072PC', 5]],\n 'A1P21J0DMTVGS7': [['B004K2IHUO', 5]],\n 'AL3E5V6MXO9B0': [['B004K2IHUO', 5]],\n 'A2O9G2521O626G': [['B004K2IHUO', 5]],\n 'A1ZKFQLHFZAEH9': [['B004K2IHUO', 3]],\n 'A30835UIR6F8KB': [['B001REEG6C', 5]],\n 'A10EHUTGNC4BGP': [['B001REEG6C', 5]],\n 'AY12DBB0U420B': [['B001REEG6C', 5],\n  ['B008YAXFWI', 4],\n  ['B0025UALB6', 4],\n  ['B005TY2REE', 4],\n  ['B000X2CWTM', 5]],\n 'A1VKJN5Y1C7S5Y': [['B000J0HIT2', 2]],\n 'A3VEYLW2KPZNGK': [['B0037LW78C', 5]],\n 'A2F65U0UDY7TAW': [['B0037LW78C', 5]],\n 'AWNANZ5VUO7IB': [['B0037LW78C', 5]],\n 'A1Q4PJXI5HS5WT': [['B0037LW78C', 5]],\n 'A2IX1B76ONTXEL': [['B0037LW78C', 5]],\n 'A3P60QLFDDCHOY': [['B0026Y3YBK', 5]],\n 'A38BUM0OXH38VK': [['B0026Y3YBK', 5]],\n 'AD1WWGMEQ8FWW': [['B003SE19UK', 5]],\n 'A2PM49X61MWZJV': [['B003SE19UK', 5]],\n 'A3A52DETIFZNZS': [['B003SE19UK', 5]],\n 'A3L15C30CBPZOR': [['B003SE19UK', 5]],\n 'A29SUR9R8ZU54B': [['B003SE19UK', 5]],\n 'A9GRWS6KP8SMA': [['B003SE19UK', 5]],\n 'ASOEVZ99YWPVL': [['B003SE19UK', 5]],\n 'A1QAJ948PN36II': [['B003SE19UK', 5], ['B003MCEV0I', 5]],\n 'A1LWFJRITZLYUG': [['B003SE19UK', 5]],\n 'A34UG2TNXIL0Y': [['B003OB0IB8', 4]],\n 'A3NVZTGPORNPRW': [['B003OB0IB8', 5]],\n 'A28D854VMOEHGX': [['B003OB0IB8', 3]],\n 'AISIYS3D2EAOX': [['B003OB0IB8', 5]],\n 'A2DLRG3YX6A2ZU': [['B003OB0IB8', 2]],\n 'A56HS2VNURVJ0': [['B003OB0IB8', 5]],\n 'AOTEC8KEH8JGN': [['B003OB0IB8', 5]],\n 'A1D0URD0AL237J': [['B003OB0IB8', 5]],\n 'A2BZNXMV0LC7OE': [['B003OB0IB8', 4]],\n 'A198FU6P1BVUNZ': [['B002SRYRE8', 5], ['B003TIVBSU', 5]],\n 'A21E0OJ4DSKXNA': [['B002SRYRE8', 5]],\n 'A1FJJQA34W0F4K': [['B002SRYRE8', 5]],\n 'A20PK3OCKRRSA5': [['B002SRYRE8', 5]],\n 'ARS5Q7LR6HWPG': [['B001GVISJW', 4]],\n 'A2YIO225BTKVPU': [['B001GVISJW', 4]],\n 'A1ROND7G1QTOFY': [['B001GVISJW', 5]],\n 'A1Z54EM24Y40LL': [['B001GVISJW', 5], ['B004X8TK9W', 5], ['B000FA398U', 5]],\n 'A281387UUS2IN5': [['B001GVISJW', 3]],\n 'A2NH6XPAZG881D': [['B0017I8UME', 5]],\n 'AKX0RW482WAFD': [['B0017I8UME', 2]],\n 'ATBE88PKKQTRA': [['B0017I8UME', 5]],\n 'AJFIH0DZYJF7T': [['B0064KU9HO', 3]],\n 'ABTKZKAWOK4DC': [['B0037ZFEW4', 5]],\n 'AC567LXSKDNC1': [['B00374XSVY', 5]],\n 'A2PW7DRW757OL0': [['B00374XSVY', 5]],\n 'AISCBGJRPPZ5G': [['B005P0HHGK', 4]],\n 'A17ESTP5T7T1PH': [['B002HQAXUW', 1]],\n 'A1CY94Z8YWQV12': [['B000SV90J8', 5]],\n 'A3OO3TXDSIJDHY': [['B000SV90J8', 5]],\n 'AUIVXYS8E4DEX': [['B0036VM05I', 5]],\n 'A335SFRERY214N': [['B0036VM05I', 5]],\n 'A3NID9D9WMIV01': [['B000ITVLE2', 5], ['B0040WHJQM', 5]],\n 'A395S4RA1X7BFB': [['B000ITVLE2', 5]],\n 'ADL44P8Z4A3M5': [['B000ITVLE2', 5]],\n 'A1K37I9HWF3SAI': [['B000ITVLE2', 3]],\n 'A6Y8N2GHDH0ZO': [['B000ITVLE2', 4]],\n 'A5X6PJANY4XW4': [['B000ITVLE2', 5]],\n 'ARTBQH9WOZTIV': [['B000ITVLE2', 1]],\n 'A2TUJ3MOKXZVYK': [['B003TQQKFQ', 5]],\n 'A2QHQM3HHFUSHG': [['B003TQQKFQ', 5]],\n 'A34YK0ZTWOR858': [['B007B9J6G2', 1]],\n 'A34D61RQILOKIJ': [['B0064KO0BU', 1]],\n 'AAV3AEI6YSYA2': [['B0064KO0BU', 3]],\n 'A104Y49ZQ4CYJ2': [['B0064KO0BU', 5]],\n 'A2KVCXTQVN18KI': [['B001IUKD76', 5]],\n 'A2K8UBI64T0BM8': [['B001IUKD76', 5]],\n 'A3HUV0ZQPXO3V7': [['B0081XN2HQ', 5]],\n 'A3PPOTV6659ATF': [['B0025VRCJY', 4]],\n 'A2VYRRDJN2UKWB': [['B0025VRCJY', 5]],\n 'A2ACUGNVT36JYX': [['B0025VRCJY', 5]],\n 'A3F8JQ5J29GWUV': [['B0025VRCJY', 5]],\n 'A3L9ZT7SRJYLVH': [['B0025VRCJY', 4], ['B004X8TK9W', 5]],\n 'A3O8ZE8BHREE0W': [['B005CJVVJ8', 4]],\n 'A3BSTFFIKK5YTW': [['B005CJVVJ8', 4], ['B000E7WM0K', 3]],\n 'A3F44FUPG97AA9': [['B005CJVVJ8', 5]],\n 'A1AL946PZ24084': [['B005CJVVJ8', 3]],\n 'A262Z0S6PT9U16': [['B001KUUNP6', 5]],\n 'A317BY3IPZ83MJ': [['B001KUUNP6', 5]],\n 'A18VJ0WOQAIZYD': [['B001KUUNP6', 5]],\n 'A1IU7S4HCK1XK0': [['B000NY8ODS', 5], ['B000ED9LDU', 5]],\n 'A2S72TUJDQUBMH': [['B00029XIZI', 5]],\n 'ATX44LVZL5JFV': [['B004V6AH34', 4]],\n 'A3AFVGFX175F9N': [['B004V6AH34', 3]],\n 'AXAJ1GHE97YE2': [['B004V6AH34', 5]],\n 'A3POAWC2JPQQQP': [['B004V6AH34', 5], ['B00408CX8A', 4], ['B00653KJ5M', 4]],\n 'AJZ2A9UOJK0RB': [['B004V6AH34', 5]],\n 'A19NGYCQ1NCF3W': [['B0028C44Z0', 5]],\n 'A32DDKLY942A84': [['B0028C44Z0', 4]],\n 'A3B6S35IUGOGW4': [['B0028C44Z0', 5]],\n 'AI7O5C9KBVSTF': [['B0028C44Z0', 5]],\n 'A4LL4KXLRBQHQ': [['B0028C44Z0', 3]],\n 'A3U94LRA4I8YAL': [['B0028C44Z0', 5]],\n 'A1WTXY4MW3YDF2': [['B0028C44Z0', 5]],\n 'A1UF2VN3O50NGW': [['B0028C44Z0', 2]],\n 'A3VAYCK681VZZO': [['B0028C44Z0', 5]],\n 'A3TIC20I6XI297': [['B0028C44Z0', 5]],\n 'A2Q8F5N7HQXWDW': [['B0028C44Z0', 4]],\n 'A2RMYCQIST622H': [['B0028C44Z0', 5]],\n 'A27D5IRAIGLOG5': [['B0028C44Z0', 5]],\n 'A5F7YR0G7H9HR': [['B0028C44Z0', 5]],\n 'A2E0MNOYZI00VW': [['B0028C44Z0', 5]],\n 'A3BJ9NS09YGQT5': [['B0028C44Z0', 1], ['B000E7WM0K', 5]],\n 'A3S84SEN2Z6DZU': [['B0009XLVGA', 5]],\n 'A2U3Z5S70AE80V': [['B0009XLVGA', 5]],\n 'ATHUN0PJ0MG0P': [['B0009XLVGA', 5]],\n 'A2LWOW7SO2QPML': [['B0009XLVGA', 2]],\n 'A1NHQNQ3TVXTZF': [['B0009XLVGA', 1]],\n 'A3FU8FVBZ8ZODD': [['B002TDK0VK', 4]],\n 'A24HJWXL3LHULM': [['B002TDK0VK', 5]],\n 'A3GRP8QRFGDH8T': [['B002TDK0VK', 1]],\n 'A19SDJ2TSSL8HI': [['B0040WAG7Q', 3]],\n 'AW497M5SEXAPQ': [['B001EO5ZMO', 5]],\n 'A3KQ1480MHXXCW': [['B001EO5ZMO', 5]],\n 'A8D27L5Q5BLRC': [['B001EO5ZMO', 5]],\n 'A1C5SHU81SRARN': [['B001EO5ZMO', 5]],\n 'A3JP1UJAF8YY0F': [['B001EO5ZMO', 5]],\n 'A8XEEORIXJNZL': [['B001EO5ZMO', 5]],\n 'A3A4GAPXRX5SHM': [['B001EO5ZMO', 2]],\n 'A1CR1DS15Z7XO1': [['B001SATU8E', 4]],\n 'A2WQBT7RS1HSSU': [['B007JFV6RK', 5]],\n 'A3LCMQ815MBJW9': [['B007JFV6RK', 5]],\n 'A2UC5JUVHIF80L': [['B007JFV6RK', 5]],\n 'A1AK335P17JXL0': [['B001L4ELRW', 1]],\n 'A2ODZ3CH8PMYTL': [['B003SO503C', 5]],\n 'A3OXRFCJI67IMN': [['B003SO503C', 5], ['B003FA0M1O', 5]],\n 'A2HL6876LDPJIM': [['B003ZFXJDW', 5]],\n 'A2KPPGFMPD20M6': [['B003ZFXJDW', 1]],\n 'AJ94Y22SUFCGU': [['B003ZFXJDW', 5]],\n 'A1KLA02LZXAT46': [['B001HTL6CY', 2], ['B000EGX2EG', 1]],\n 'A2GN6W82DZNUN8': [['B000WFRMRW', 5]],\n 'A3Q7QBDSAZ670I': [['B000WFRMRW', 4]],\n 'AF72GTWZGAC61': [['B001EO5ZME', 5], ['B001EO5ZMY', 5]],\n 'A1JT114SOITFFO': [['B0093NIWVO', 5]],\n 'AOSK1PLKNT64': [['B001EO5ZMY', 5]],\n 'A1DAHZRJTX5X1Z': [['B001EO5ZMY', 5]],\n 'A7WE8ZWEJG34E': [['B001EO5ZMY', 4]],\n 'A1W4LZ4VZDF29Y': [['B001EO5ZMY', 4]],\n 'A3E81HFGNME65J': [['B001EO5ZMY', 2]],\n 'AMRNVZKWF6519': [['B007TFONH0', 5]],\n 'A10IFYN5U6X20R': [['B007TFONH0', 5]],\n 'A3ICO2ROSXHIPM': [['B007TFONH0', 5]],\n 'A1OE23J37ZPDXE': [['B000GGKQSO', 5]],\n 'A3957BBBNL1TLJ': [['B007J32WX4', 5]],\n 'A2EPNS38TTLZYN': [['B0017129DC', 3]],\n 'A1SSKFPX72MSMR': [['B0002567IW', 1]],\n 'ATY9Z65HYE0W6': [['B0048IC328', 4]],\n 'A1W867A8DSHFHC': [['B0048IC328', 1]],\n 'A375ZA7IJH2ZGQ': [['B0048IC328', 2]],\n 'A2WT4IIHNFJGYT': [['B0025WIAN0', 5]],\n 'A332AAPB4P75L4': [['B00821UN4M', 1]],\n 'A3MQSTAAJSUGF9': [['B00821UN4M', 2]],\n 'AE508CW7ON3EP': [['B00473RWXY', 5]],\n 'A2M6O8YORUA8PW': [['B002MV23XM', 5]],\n 'AQ7QJ1GWE2BSR': [['B002MV23XM', 5]],\n 'A3AER90E4ZWVN6': [['B000LKZK7C', 5]],\n 'A25YQEBU2FAD3M': [['B000LKZK7C', 3]],\n 'A1T14KXM4GH14A': [['B000LKZK7C', 5]],\n 'A1H9VU1FACOXLN': [['B000LKZK7C', 5]],\n 'AWJ1Z81HHB0MY': [['B000LKZK7C', 5]],\n 'A2NP8RNW9T5BQF': [['B000LKZK7C', 1]],\n 'A2JRK3K99168A1': [['B000LKZK7C', 4]],\n 'A1L4RDILGM7D9E': [['B000LKZK7C', 4]],\n 'A2VUB6YYTF234O': [['B000LKZK7C', 4]],\n 'A21BLUM0I2Y3MW': [['B000LKZK7C', 5]],\n 'A1VKNACW03M5H7': [['B000LKZK7C', 3]],\n 'A2582KMXLK2P06': [['B000LKZK7C', 5]],\n 'A34HSMRAQY5XKX': [['B000LKZK7C', 5]],\n 'AUUWUS51SMMT4': [['B000LKZK7C', 4]],\n 'A1YZV2UY0QDZTX': [['B000LKZK7C', 5]],\n 'A3QN14A5DGUA0U': [['B001D07IPG', 5]],\n 'ABHXONN9HSUZI': [['B001D07IPG', 5]],\n 'A3OM7Q1IVAGLUW': [['B001D07IPG', 5]],\n 'A3BUE5AHX4M0FS': [['B001D07IPG', 5]],\n 'AQX8FF2YCO3J7': [['B001D07IPG', 5]],\n 'A27UE9HJRZ22YI': [['B001D07IPG', 1], ['B000EGX2EG', 2]],\n 'A3MBRJ5X24GXM9': [['B000H13270', 5]],\n 'A3J6I70Z9Q0HRX': [['B000H13270', 5]],\n 'A1YLOZQKBX3J1S': [['B000H13270', 3], ['B000FDKQCY', 3]],\n 'AVQIRN6E7J7UA': [['B000H13270', 3]],\n 'A1XM65S80UQ2MD': [['B001UJEN6C', 5]],\n 'AFUMZHRZJG0H0': [['B001UJEN6C', 5]],\n 'AIW47KAXVTR0X': [['B001UJEN6C', 5]],\n 'A1R2P21ZYNJCFJ': [['B001UJEN6C', 3]],\n 'A37AO20OXS51QA': [['B001UJEN6C', 5]],\n 'A3R6W1FEYDNT8V': [['B001UJEN6C', 5]],\n 'A2VBZOK3SVSDWA': [['B001UJEN6C', 5]],\n 'AREOHWLWVX0A8': [['B001UJEN6C', 3]],\n 'ADWJAJZTHNYN6': [['B001UJEN6C', 5]],\n 'A3UD9G34YLWVXE': [['B001UJEN6C', 4]],\n 'A2Y4IWY1ZXLXH8': [['B001UJEN6C', 5]],\n 'AHAX3RWULQD6T': [['B001UJEN6C', 5]],\n 'A2LFHPZFG1OHBZ': [['B001UJEN6C', 5]],\n 'A297HRGWRID7I6': [['B001UJEN6C', 5]],\n 'AMYAHFQZI19LS': [['B001UJEN6C', 5]],\n 'A28VTF9FQ42SBV': [['B001UJEN6C', 5]],\n 'A2H03V8PAZDU9J': [['B001UJEN6C', 5]],\n 'AUXHG88OYWCGM': [['B001UJEN6C', 5]],\n 'ATN552TF5V40Z': [['B001UJEN6C', 1]],\n 'A3DSWITPB6NBT5': [['B003EMU7EU', 4]],\n 'A215QEI3FPLVXU': [['B0064KOUNI', 5]],\n 'AAZ084UMH8VZ2': [['B003YDP5PA', 5], ['B002BCD2OG', 5]],\n 'AFLLCB3F28N6A': [['B003YDP5PA', 5]],\n 'A3T8PIRVS2LX4P': [['B003YDP5PA', 5]],\n 'A18RVAXFLALN6E': [['B003YDP5PA', 1]],\n 'AVPSSODZIDABZ': [['B002X9JNYU', 1]],\n 'A2RXRKRI8YSQWQ': [['B001EPQ0J0', 5]],\n 'A2KADAQBR8NG80': [['B001EPQ0J0', 5]],\n 'A2L3IECPFB956F': [['B001EPQ0J0', 5]],\n 'A137DV4YVGWDCR': [['B000O9Y62A', 5]],\n 'A89KN0ADLUNPW': [['B000O9Y62A', 5]],\n 'A1SH7OWQ98P6FI': [['B00283TPYE', 5]],\n 'AJM8UGFV16NS8': [['B001FB69YY', 5]],\n 'AVD1K8KU6Z86U': [['B004OYBN7C', 5]],\n 'AJ7Q49CTJ1BOC': [['B000JEHAHS', 5]],\n 'A2MMFEZ728S1MA': [['B000JEHAHS', 3]],\n 'A1GUR2DMGWUIGL': [['B000JEHAHS', 3]],\n 'A2CU16YU1KEOUY': [['B000JEHAHS', 1]],\n 'A6Y49ZNS6NPN0': [['B003VTN95K', 5]],\n 'A3G467T8H2U4F1': [['B003VTN95K', 5]],\n 'AKG4UJNVSHHAD': [['B003VTN95K', 4]],\n 'A1J7ZSFU0SO3D4': [['B003VTN95K', 5]],\n 'A3GLQSR6MTHXGL': [['B003VTN95K', 5]],\n 'A3KVJ2DVCLO0HB': [['B003VTN95K', 5]],\n 'A24GM452AKJTT9': [['B007DJ0O9I', 1]],\n 'A328TUPI6HYZSF': [['B007DJ0O9I', 5]],\n 'A28D8FT2NNCS2Z': [['B00469VSJI', 5]],\n 'A2EVOV2OZBQU53': [['B00469VSJI', 1]],\n 'A1447CDAPZGLYV': [['B00469VSJI', 1]],\n 'A156LLD3VZJGC2': [['B002SRAU80', 5]],\n 'A1KZ67VEU7CJQ3': [['B0067LDV66', 5]],\n 'A26EQ8U96JA92T': [['B0067LDV66', 5]],\n 'A2CHZ5Q2EF3IR3': [['B000HKYP9A', 5]],\n 'AD5WAUA14YD6N': [['B000HKYP9A', 4]],\n 'AHMKE1AJEHHS3': [['B000HKYP9A', 5]],\n 'A6VEEE9HOL004': [['B000HKYP9A', 3]],\n 'A3JBI5QDS32UEM': [['B000HKYP9A', 5]],\n 'AMNCDXFZKL6MZ': [['B000HKYP9A', 3]],\n 'A2B7A8FJBT0HDX': [['B000HKYP9A', 3]],\n 'AEIAXBIMAO9T0': [['B000HKYP9A', 4]],\n 'A2OB1BFAEPAYBM': [['B00067AD4U', 5]],\n 'A3GT3KCGY9EYF4': [['B00067AD4U', 5]],\n 'A2LYOWC3FC73XK': [['B00067AD4U', 5]],\n 'A7DSY3M6P6RG3': [['B00067AD4U', 5]],\n 'A1DTDSL1J6C05F': [['B0029OWDAU', 5]],\n 'A19Y7MSOR2J7XP': [['B000SEJ84M', 5]],\n 'ATBV3QRAVD2PJ': [['B001LMNXFA', 5]],\n 'A226DRVTNFWM28': [['B001LMNXFA', 5]],\n 'ASIAOU4JW8LUG': [['B002J2DO8W', 5]],\n 'A2VOVLKP603R1T': [['B000U9V5AU', 5]],\n 'A2XADCFYDXH7IV': [['B001SB099M', 4]],\n 'A1KZUXE70GYNGO': [['B0041QJSJS', 4], ['B004XMIRU6', 4]],\n 'A221AFCU6AE0QO': [['B0041QJSJS', 5]],\n 'A2BAVWMHL130WY': [['B0041QJSJS', 5]],\n 'A20B2BU1ZPY9AW': [['B0041QJSJS', 1]],\n 'A2T68P9I05KBFT': [['B0041QJSJS', 5]],\n 'A2SLZMD0UYRT5X': [['B00437JI8Q', 5]],\n 'A3UM3M6WSUN5BR': [['B00437JI8Q', 5]],\n 'A4TLHOUT1PHTL': [['B00437JI8Q', 5]],\n 'A3DKCBKDEO2GS3': [['B00437JI8Q', 5]],\n 'A1J87LOAYSMHO9': [['B00437JI8Q', 5]],\n 'A1OIMIM4FHT4IG': [['B002O3VHXU', 4]],\n 'A3OXHLG6DIBRW8': [['B002O3VHXU', 5],\n  ['B004ET7MG8', 2],\n  ['B005K4Q1VI', 5],\n  ['B005K4Q1VI', 5],\n  ['B000VSDFRG', 5]],\n 'A2TJG4N8LNJW23': [['B002O3VHXU', 4], ['B0089SPDUW', 4]],\n 'A2129VQGGHR150': [['B002O3VHXU', 5]],\n 'A1HQV09XG1Z0YW': [['B002O3VHXU', 4]],\n 'A2ZNLPYMZOXLGX': [['B002O3VHXU', 5]],\n 'A5IWYNX8RHRKL': [['B0057FTBYO', 5]],\n 'A139RTDNMU3WY5': [['B0087HW5E2', 5]],\n 'A212PEJ8E3TS3V': [['B003YXWAF8', 5]],\n 'AS89BWXQRDAMV': [['B003YXWAF8', 5]],\n 'A3OOAICYUJT8EL': [['B003YXWAF8', 5]],\n 'AMN6JEQ31G052': [['B003YXWAF8', 5]],\n 'A35G909LKGM6R1': [['B003YXWAF8', 3]],\n 'A1KQXO716WOOD6': [['B003YXWAF8', 1]],\n 'A3AEEQSKFVN9NB': [['B000UXA3L8', 5]],\n 'A25C2M3QF9G7OQ': [['B000UXA3L8', 5], ['B002TMV3E4', 5]],\n 'A1ZZMVHSLQSE7R': [['B004AVYUOW', 5]],\n 'A37RRNHOYQ7JPH': [['B001ESOQAM', 5]],\n 'AQDT2YOPW35IU': [['B001ESOQAM', 4]],\n 'A2JH47KQUPWVRO': [['B001ESOQAM', 5]],\n 'A2609IIYREBZRT': [['B001ESOQAM', 5]],\n 'AC8PTTE9SEU9E': [['B001ESOQA2', 4], ['B001FA1KUS', 5]],\n 'A2FZRO46DF0UHN': [['B003XT4AV0', 2]],\n 'A1FERORG6RB1ZP': [['B003XT4AV0', 5]],\n 'A1H2R3U6I562W': [['B001FA1MCO', 5]],\n 'A30WKTJDBRD5UA': [['B001FA1MCO', 1]],\n 'A13T2G4T8LR8XA': [['B001ELL6O8', 5]],\n 'A72H1W5S6UFMY': [['B001ELL6O8', 5]],\n 'A1PTPN5SY7C7SW': [['B001ELL6O8', 5]],\n 'AZ7289G0ILRFF': [['B001ELL6O8', 5]],\n 'ALSAOZ1V546VT': [['B001ELL6O8', 5], ['B002TMV3E4', 5]],\n 'A1ORGHJ9LSZB03': [['B001ELL6O8', 4]],\n 'A1JM25M2PSVPXE': [['B001ELL6O8', 3]],\n 'A12T0F58OKHCIW': [['B001ELL6O8', 1]],\n 'A2APBHKZCMD6DO': [['B001ELL6O8', 1]],\n 'A3F5EUYWKVWPJ6': [['B006CGURWM', 1]],\n 'A2VJBGSGUC78FB': [['B00250I0EG', 5]],\n 'A1T61QP7QHYBRQ': [['B000C21OOM', 5]],\n 'A2KTYAKU1PEVCI': [['B003D4O92K', 5]],\n 'A3K24YL6ORL11F': [['B003D4O92K', 5]],\n 'AVI998S4IX2Y1': [['B001IZM8A6', 5]],\n 'A2ANZVA56T7RAG': [['B001IZM8A6', 5]],\n 'ARYNM1E978YX8': [['B0089PI9OC', 5]],\n 'A28RMYGO9RGA0K': [['B00061KYVI', 5]],\n 'A3JE18D4XD2PYF': [['B00061KYVI', 5]],\n 'A29ZSRDOYVO735': [['B00061KYVI', 5]],\n 'A197O1VYM9B8A3': [['B003XV5LHK', 5]],\n 'A3UV9TOZW3XXPV': [['B005WU7V00', 5]],\n 'A250IZTJ5UN2EI': [['B005CFC9XY', 5]],\n 'A2IJOBHJXEZSS2': [['B000SEJ842', 1]],\n 'A3U2QAY7SVE9AI': [['B004X8TK8I', 5], ['B000J2DQ46', 1]],\n 'A3GIMXLOEPFJBV': [['B004X8TK8I', 4]],\n 'AMRMK86X3PKXD': [['B004X8TK8I', 5], ['B004NNFEA6', 5], ['B000FBM4FI', 5]],\n 'A1TYA1IYI3LGUC': [['B004X8TK8I', 5]],\n 'A2NO1TXXS9T0EE': [['B000G6RYNE', 4], ['B000G6RYNE', 5]],\n 'A1IRN1M05TPOVT': [['B000G6RYNE', 5], ['B000G6RYNE', 5]],\n 'ARONI7W0W677H': [['B000G6RYNE', 5]],\n 'A1Y3XPZK9ZADFW': [['B000G6RYNE', 4], ['B000G6RYNE', 4]],\n 'A1ELZC3WXWILX2': [['B000G6RYNE', 5]],\n 'A1X5RAIMX4ZSLJ': [['B000G6RYNE', 5]],\n 'A1S8ELUE383P8E': [['B000G6RYNE', 5]],\n 'A2OEUROGZDTXUJ': [['B000G6RYNE', 5], ['B000G6RYNE', 4], ['B000G6RYNE', 5]],\n 'A17V3UVYMI69TE': [['B000G6RYNE', 4]],\n 'A22PUBSSNP54L': [['B000G6RYNE', 5]],\n 'A15USNEAJUXOSH': [['B000G6RYNE', 4], ['B000G6RYNE', 5]],\n 'A2BLJGGWN8GTXQ': [['B000G6RYNE', 5], ['B002YZESWU', 5], ['B004RDRHAW', 4]],\n 'A1FXCNUVQ6FOMC': [['B000G6RYNE', 5]],\n 'A926YP1BSD72Y': [['B000G6RYNE', 5], ['B004391DK0', 5]],\n 'A33PLZ7SD5MCG0': [['B000G6RYNE', 4], ['B002YSA1PU', 5]],\n 'A3EEBE82C3HYRD': [['B000G6RYNE', 3]],\n 'A35JPD8Q492FJC': [['B000G6RYNE', 5]],\n 'A391CLP4UMXJQG': [['B000G6RYNE', 4]],\n 'AYB4ELCS5AM8P': [['B000G6RYNE', 5]],\n 'A2GOE7ITDGYVE': [['B000G6RYNE', 5], ['B003KLSZGW', 5]],\n 'A19G8B2QYETD7W': [['B000G6RYNE', 3]],\n 'A3PZ4AXTY9J1DZ': [['B000G6RYNE', 4]],\n 'ACFPHOYVB71V4': [['B000G6RYNE', 5]],\n 'A1H80WDFOR94Q5': [['B000G6RYNE', 5]],\n 'A3Q5YZNYGGUP8W': [['B000G6RYNE', 5]],\n 'AKRLMISQPL8QW': [['B000G6RYNE', 5]],\n 'A1465JH39KR5O5': [['B000G6RYNE', 5]],\n 'A1L17QW3R7A519': [['B000G6RYNE', 5]],\n 'AOSFLVLMAG0N5': [['B000G6RYNE', 5]],\n 'A2H2Q5RW1K56AI': [['B000G6RYNE', 5]],\n 'A13VD7TJDWVOEC': [['B000G6RYNE', 5]],\n 'AKKQKYX8ODUAF': [['B000G6RYNE', 5]],\n 'A3RB0YBBYGXBYE': [['B000G6RYNE', 5]],\n 'A3492ZW10B65ON': [['B000G6RYNE', 5]],\n 'A2ZEFDVX4X5TPX': [['B000G6RYNE', 4], ['B0025ULYKI', 3]],\n 'A2MMTWKCJET6S': [['B000G6RYNE', 4]],\n 'A3RMGIKUWGPZOK': [['B000G6RYNE', 5],\n  ['B000G6RYNE', 3],\n  ['B000G6RYNE', 5],\n  ['B000G6RYNE', 5]],\n 'A1E2Y40TTPL8YK': [['B000G6RYNE', 5]],\n 'A56JFSLUCHI4J': [['B000G6RYNE', 5]],\n 'A1DW1FK1H3F2TM': [['B000G6RYNE', 5]],\n 'A3PJZ8TU8FDQ1K': [['B000G6RYNE', 5],\n  ['B000G6RYNE', 5],\n  ['B000G6RYNE', 5],\n  ['B000G6RYNE', 5]],\n 'AU3VZDTQH0J4M': [['B000G6RYNE', 5]],\n 'A3B0HXAUWCLSZO': [['B000G6RYNE', 5]],\n 'A17UR3NRLARXCH': [['B000G6RYNE', 4]],\n 'A31N6KB160O508': [['B000G6RYNE', 4],\n  ['B000G6RYNE', 4],\n  ['B000G6RYNE', 4],\n  ['B000FDKQCY', 5],\n  ['B00110FN28', 5]],\n 'A339FKUBFG0VLX': [['B000G6RYNE', 4]],\n 'A3MLESXA2VGWJC': [['B000G6RYNE', 4]],\n 'A3UCO7B9HP42BG': [['B000G6RYNE', 5], ['B000G6MBX2', 5]],\n 'A1DOBB5XZ1KMZ5': [['B000G6RYNE', 5]],\n 'A3I96LKK3S15D0': [['B000G6RYNE', 5]],\n 'A2LS9RBSI8SDZF': [['B000G6RYNE', 5]],\n 'A324FVIOYCWNSB': [['B000G6RYNE', 4]],\n 'A1RRHET1QIP1YK': [['B000G6RYNE', 5], ['B000X2CWTM', 5]],\n 'A12OF4IM7A8YS': [['B000G6RYNE', 5]],\n 'AUHS7PQNAHNDI': [['B000G6RYNE', 5]],\n 'A26ONAQEIUEMV4': [['B000G6RYNE', 5]],\n 'AOHRHPJP38LLT': [['B000G6RYNE', 2]],\n 'A1AXXMJQ3NDIFK': [['B000G6RYNE', 5]],\n 'A1WQ3UGXPT15VI': [['B000G6RYNE', 2]],\n 'A1B05INWIDZ74O': [['B000G6RYNE', 3], ['B000G6RYNE', 5]],\n 'A3TEMXOLE1APPZ': [['B000G6RYNE', 2]],\n 'A2OAYIM13WIXCH': [['B000G6RYNE', 5]],\n 'A2BFFXK7TEINBE': [['B000G6RYNE', 5]],\n 'A3N9DN0V2YXAXA': [['B000G6RYNE', 5]],\n 'A2C5BWOM7329UD': [['B000G6RYNE', 5]],\n 'APGAA43E3WPN7': [['B000G6RYNE', 5]],\n 'ABR7HU5H1KNE': [['B000G6RYNE', 5]],\n 'AJQD2WWJYOYFQ': [['B000G6RYNE', 4]],\n 'A16YH487W9ZYO0': [['B000G6RYNE', 4]],\n 'A83YQC1XOU4CS': [['B000G6RYNE', 5]],\n 'A2LGWBIT9WCTVA': [['B000G6RYNE', 5]],\n 'A3TX8RH943OLBM': [['B000G6RYNE', 2]],\n 'A3L4OZ0U0A5UDH': [['B000G6RYNE', 5]],\n 'A30H2335OM7RD6': [['B000G6RYNE', 5]],\n 'A2SYKMR242D0X6': [['B000G6RYNE', 5]],\n 'A27YPCR3ZXWVFE': [['B000G6RYNE', 5]],\n 'A39Y59C6FTC0GL': [['B000G6RYNE', 2]],\n 'A3I5AT1101AS3A': [['B000G6RYNE', 1]],\n 'A22LENLDTGQIU7': [['B000G6RYNE', 1]],\n 'A2ZCD6KO2YY9IZ': [['B000G6RYNE', 5], ['B000G6MBX2', 5]],\n 'A2C18CH1YC6BYT': [['B000G6RYNE', 4]],\n 'A2M8JQ3AME7878': [['B000G6RYNE', 3]],\n 'A3B6TOEXSQVO24': [['B000G6RYNE', 5]],\n 'A16S0NQ3MWJXFL': [['B000G6RYNE', 5]],\n 'A1UM73T71CFPSY': [['B000G6RYNE', 5]],\n 'A38KP1POQ191WT': [['B000G6RYNE', 1]],\n 'A1AVLKAXW55QQA': [['B000G6RYNE', 4]],\n 'A2DQBXU2LEVWWA': [['B000G6RYNE', 3]],\n 'A4NDPXCYKRCY2': [['B000G6RYNE', 2]],\n 'A3TK2IOP8UQ087': [['B000G6RYNE', 5]],\n 'AYBYYDVV5ABJE': [['B000G6RYNE', 3]],\n 'A3MFU0GVZUVH3K': [['B000G6RYNE', 5]],\n 'A27C44BIRQH3QW': [['B000G6RYNE', 5]],\n 'ACYR6O588USK': [['B000G6RYNE', 5], ['B0025ULYKI', 5]],\n 'A13SOXNMWXQVNU': [['B000G6RYNE', 5]],\n 'A1MFG9E45RX5OW': [['B000G6RYNE', 5]],\n 'A2L9028WTVFL1I': [['B000G6RYNE', 5]],\n 'A1BXG0K7UD9CTD': [['B000G6RYNE', 1]],\n 'AY1EF0GOH80EK': [['B000G6RYNE', 5], ['B001EPPCNK', 4], ['B0031YJ38W', 3]],\n 'AWLK6NSSV0YNA': [['B000G6RYNE', 5]],\n 'A15U6JW86FB9OV': [['B000G6RYNE', 5]],\n 'ALCKGM3XF391': [['B000G6RYNE', 4]],\n 'A1LERBW69A3FDS': [['B000G6RYNE', 3]],\n 'A3CN9CCJUNIPKT': [['B000G6RYNE', 3]],\n 'A3P8OWYR65G9UF': [['B000G6RYNE', 2]],\n 'A2EMS62FCYODRS': [['B000G6RYNE', 5]],\n 'A18VDAH788BOAC': [['B000G6RYNE', 1]],\n 'A2NI99G9BANORP': [['B000G6RYNE', 1]],\n 'A2A1XYSB692L6J': [['B000G6RYNE', 5]],\n 'A2TN9C5E4A0I3F': [['B000G6RYNE', 1], ['B001FKQQDO', 3]],\n 'A2LN5DDGT21310': [['B000G6RYNE', 4]],\n 'A3GJQ3W0T0KWEO': [['B000G6RYNE', 1]],\n 'A1PGMT8XLL4FPM': [['B000G6RYNE', 1]],\n 'A4XCTURC8URLE': [['B000G6RYNE', 1]],\n 'A21D8LH2CD2EIZ': [['B000G6RYNE', 2]],\n 'A14SOW889A4TAT': [['B000G6RYNE', 1]],\n 'A6UFSCD6O8JMT': [['B000G6RYNE', 4]],\n 'A14HZ5EMD2WCG': [['B000G6RYNE', 3]],\n 'A3ARC3UIY3Z1KQ': [['B000G6RYNE', 1]],\n 'A2B5OI74EHGVH1': [['B000G6RYNE', 1]],\n 'ATZ0P4653KL13': [['B000G6RYNE', 2]],\n 'A2GDBBZMMBX1L': [['B000G6RYNE', 2]],\n 'A35KU4XNOVV194': [['B000G6RYNE', 1]],\n 'A3D7FUBG14QWKX': [['B000G6RYNE', 1]],\n 'APA1GLNHF6K9H': [['B000G6RYNE', 1]],\n 'A31MZR41SM9JU5': [['B000G6RYNE', 1]],\n 'A1RUS8VOWCIC28': [['B000G6RYNE', 1]],\n 'A10RJEQN64ATXU': [['B000G6RYNE', 5]],\n 'A2OLJKXJBAYBTY': [['B000G6RYNE', 1]],\n 'A3UFRBCC1CSCSJ': [['B000G6RYNE', 1]],\n 'AR7TAEEUDHMUB': [['B000G6RYNE', 1],\n  ['B0085G4ACA', 5],\n  ['B003OZYUEA', 5],\n  ['B002FVQX3A', 5]],\n 'A320QA9HJFUOZO': [['B000G6RYNE', 5]],\n 'A1GBZCL326K4GN': [['B000G6RYNE', 5]],\n 'ADS5APY1NKTL4': [['B000G6RYNE', 5], ['B000G6RYNE', 5]],\n 'A3ARZW7S96SESC': [['B000G6RYNE', 1]],\n 'A2JFHMA59G55MJ': [['B000G6RYNE', 5]],\n 'AJWLSDYCSQNBL': [['B000G6RYNE', 1]],\n 'AG7EF0SVBQOUX': [['B000G6RYNE', 5]],\n 'A1FAHUMEJO9S1K': [['B000G6RYNE', 5]],\n 'AWM1SL1PYY3A3': [['B000G6RYNE', 5]],\n 'AW11YEHZRZ4D1': [['B000G6RYNE', 5]],\n 'AX7K82LNPVATT': [['B000G6RYNE', 5]],\n 'A2VQWV1HMW99AS': [['B000G6RYNE', 1]],\n 'A1Q7A78VSQ5GQ4': [['B000G6RYNE', 5]],\n 'AV51MFS5XJXFP': [['B000G6RYNE', 5]],\n 'A20K6K9TZGX7RQ': [['B000G6RYNE', 5]],\n 'A2A8KWCE8RKB9T': [['B000G6RYNE', 4], ['B001EQ5EJQ', 5]],\n 'A27GRVH9ZJGXLT': [['B000G6RYNE', 5]],\n 'A2E74M662DXAAR': [['B000G6RYNE', 1]],\n 'A3JJI4J8XAMK5Y': [['B000G6RYNE', 5]],\n 'A1CMTRQCJFV8L3': [['B000G6RYNE', 5]],\n 'A2R9GBWL1CDBN1': [['B000G6RYNE', 4]],\n 'A3PSJEB2O37G8U': [['B000G6RYNE', 5]],\n 'A2933AO5D7O1T6': [['B000G6RYNE', 5]],\n 'A2II09GQGWOMTQ': [['B000G6RYNE', 5]],\n 'AQQLWCMRNDFGI': [['B000G6RYNE', 4], ['B0089SPDUW', 5]],\n 'A24ZV048V7J0MT': [['B000G6RYNE', 5]],\n 'A3L5L1NZIKLSJU': [['B000G6RYNE', 2]],\n 'A5U1K1NRQEZW9': [['B000G6RYNE', 3]],\n 'A216YA3CYXIOGI': [['B000G6RYNE', 5]],\n 'A20FQULBVVWA8B': [['B000G6RYNE', 5]],\n 'A1LFB8KRBI9IE2': [['B000G6RYNE', 5]],\n 'A2N10M1J3KJZK4': [['B000G6RYNE', 5]],\n 'A3NXBP212KFH5X': [['B000G6RYNE', 5]],\n 'A3PM9DMVYG9HDK': [['B000G6RYNE', 5]],\n 'A2TMSO255FQBBU': [['B000G6RYNE', 5]],\n 'A20ORC60J05BP3': [['B000G6RYNE', 5]],\n 'AYSEXV27DPQ3E': [['B000G6RYNE', 5]],\n 'AX668BUQRHI7C': [['B000G6RYNE', 4]],\n 'A3MPHBL698EET7': [['B000G6RYNE', 5]],\n 'A1LA5T5SXLGFZQ': [['B000G6RYNE', 5], ['B000G1X456', 5]],\n 'A2YKWYC3WQJX5J': [['B000G6RYNE', 5]],\n 'A1JBB01LAK69LV': [['B000G6RYNE', 4]],\n 'AKMEY1BSHSDG7': [['B000G6RYNE', 5], ['B000E5AO8O', 5]],\n 'A2F7GUZ4UMVHFL': [['B000G6RYNE', 5]],\n 'A3RO3CGZ9MWA1I': [['B000G6RYNE', 5]],\n 'A37D5847LN3WQ': [['B000G6RYNE', 4], ['B002TMV3E4', 4]],\n 'A1GV4HEM6XZC06': [['B000G6RYNE', 5]],\n 'ABCXJIXC6Q6EB': [['B000G6RYNE', 5]],\n 'A3MTY0ZE9WYJHL': [['B000G6RYNE', 3]],\n 'A3E9OJWHMXMYYF': [['B000G6RYNE', 5]],\n 'A2PYL0PSX5MQYQ': [['B000G6RYNE', 2]],\n 'A2J4K5SCKZH38C': [['B000G6RYNE', 1]],\n 'AKGQ6RM68SQY1': [['B000G6RYNE', 1]],\n 'A3TA1UJWRJF9NC': [['B000G6RYNE', 4]],\n 'A3M174IC0VXOS2': [['B000G6RYNE', 5], ['B000F9Z1WI', 5]],\n 'A2FVD05Z2FYW1P': [['B000G6RYNE', 4]],\n 'A3M2VGWFJGRUOH': [['B000G6RYNE', 5]],\n 'A28HKCWJ7YF2AI': [['B000G6RYNE', 3]],\n 'A36QQYEW0AMJEO': [['B000G6RYNE', 5]],\n 'A1IVFBJA9KAI1M': [['B000G6RYNE', 4]],\n 'A16Q0OV7CIPQC0': [['B000G6RYNE', 5]],\n 'A2OL5WLCNZVD9K': [['B000G6RYNE', 3], ['B000B9SFP2', 5]],\n 'A1I29JSIGJNWKH': [['B000G6RYNE', 5]],\n 'A28870VSBU9LDQ': [['B000G6RYNE', 3]],\n 'A2Y0FKOY6WE0NQ': [['B000G6RYNE', 3]],\n 'ACJW2YSBG2HA1': [['B000G6RYNE', 4]],\n 'A1J5HHOPXZ6UNF': [['B000G6RYNE', 4]],\n 'A2W1A5GK4A03ZT': [['B000G6RYNE', 5]],\n 'A1RZ4VH27NLDGS': [['B001EPPFGO', 5]],\n 'ARMHQHFZZII2S': [['B001EPPFGO', 5]],\n 'AXSDHRCTHLA7V': [['B001EPPFGO', 5]],\n 'A4RC31AVN5LWJ': [['B001EPPFGO', 5]],\n 'AZ2NEHE8TNRUW': [['B001EPPFGO', 5]],\n 'A3TXK9O5IP3CWQ': [['B007F96QQQ', 5]],\n 'ATGPKFUEPU3UU': [['B002HQH04O', 5]],\n 'A2ZP7F2XXKGUCR': [['B002HQH04O', 5], ['B0002Z9BF8', 5]],\n 'A36FYX8CUVHD7A': [['B0025Z7CGI', 5]],\n 'ADC5ZCN8OLFO1': [['B007SESJWC', 5]],\n 'A2DLQ100P4PBMM': [['B001EPPCNK', 5]],\n 'AR1T36GLLAFFX': [['B002U56JXU', 5]],\n 'A6GMEO3VRY51S': [['B002U56JXU', 5]],\n 'A2ZE5ICI6LWAZ0': [['B002BCD2OG', 5]],\n 'A2LYOW4YW8R2HO': [['B002BCD2OG', 4]],\n 'A18TQ3KJY1J015': [['B002BCD2OG', 5]],\n 'A1Q1AUJ3E43I8G': [['B002BCD2OG', 5]],\n 'A3U58GFUQAOZLE': [['B002BCD2OG', 5]],\n 'AUI3N3A5AYO3M': [['B002BCD2OG', 5]],\n 'A2V82V20LFSWD7': [['B002BCD2OG', 4]],\n 'A3NM3RXJ8HI5TC': [['B002BCD2OG', 5]],\n 'AINFLXJIMS32P': [['B002BCD2OG', 5]],\n 'AQRS0R3YWIMD1': [['B002BCD2OG', 5]],\n 'A11QUNPSCNHY62': [['B002BCD2OG', 4]],\n 'A2WUBQNGNGWHG5': [['B002BCD2OG', 5]],\n 'A1TQ9QG6ZXLFVV': [['B002BCD2OG', 5]],\n 'A30GTV8XR6ZGTC': [['B002BCD2OG', 5]],\n 'A3HZG65Z2BHCT3': [['B002BCD2OG', 5]],\n 'A3042WJDYJ22S8': [['B002BCD2OG', 5], ['B001EU5S9S', 5]],\n 'AA83QXB39NF8B': [['B002BCD2OG', 5]],\n 'AUAXNVACC3MJL': [['B002BCD2OG', 5]],\n 'A3IJP7JXMWEPB1': [['B002BCD2OG', 1]],\n 'A2CFBLKI8YMK24': [['B00112B9T2', 5]],\n 'A1IRCA0BTW0LLD': [['B000G6MBX2', 5]],\n 'A2UFC8M91UFRX9': [['B000G6MBX2', 5]],\n 'A3QFVEQNX2FQ8P': [['B000G6MBX2', 5]],\n 'A181BEPNIVQWB1': [['B000G6MBX2', 4]],\n 'A1UJ6I72N22HT7': [['B000G6MBX2', 4]],\n 'A386PFEJWL73X5': [['B000G6MBX2', 5]],\n 'A2MIJOZVTWEXP2': [['B000G6MBX2', 5]],\n 'A4AYT6I29WTPY': [['B000G6MBX2', 5]],\n 'A1UDFKEKTO70NX': [['B000G6MBX2', 4]],\n 'A471XPKNUEJGU': [['B000G6MBX2', 4]],\n 'A28A3KLKV22OAJ': [['B000G6MBX2', 5]],\n 'A1WX42M589VAMQ': [['B000G6MBX2', 5], ['B000VKYKTG', 5], ['B000EUJLHE', 5]],\n 'ARUQJLJBXS88': [['B000G6MBX2', 5]],\n 'A3MKD1JZEYH8J3': [['B000G6MBX2', 5]],\n 'A1ZH9LWMX5UCFJ': [['B000G6MBX2', 5], ['B000FPWTHW', 5]],\n 'AK5DB61C13CN7': [['B000G6MBX2', 1]],\n 'A3AIHN7XBD816P': [['B000G6MBX2', 5]],\n 'AWZG8HXBE8PNB': [['B000G6MBX2', 5]],\n 'A3QAZDJ7NYH2C6': [['B000G6MBX2', 5]],\n 'A2OPEDFVLL22TP': [['B000G6MBX2', 4]],\n 'A2M7DO3ICXZWF1': [['B000G6MBX2', 5]],\n 'A1KTR92SDR33GZ': [['B000G6MBX2', 4]],\n 'A1DMR4TXV10JBB': [['B000G6MBX2', 5]],\n 'A15UN7OK3WRFXE': [['B000G6MBX2', 5]],\n 'A31UITXO8QXG3H': [['B000G6MBX2', 5]],\n 'AQAEOMJX8ON8A': [['B000G6MBX2', 5]],\n 'A4FVWK4UTFQVT': [['B000G6MBX2', 5]],\n 'A2D8K0GPVMMSER': [['B000G6MBX2', 5]],\n 'A2U3DAB0WI8BLZ': [['B000G6MBX2', 5]],\n 'A3SV6IWK26XK6B': [['B000G6MBX2', 5]],\n 'ACNON4BZACUUL': [['B000G6MBX2', 5]],\n 'A1UDZGQRPFHB5Y': [['B000G6MBX2', 5]],\n 'A34ZI3K5DNDSNE': [['B000G6MBX2', 5]],\n 'A1Y1O4GJA3HXQF': [['B000G6MBX2', 5]],\n 'A2TW6FWJYTF8QM': [['B000G6MBX2', 5]],\n 'AISIJIUHHZNHQ': [['B000G6MBX2', 5]],\n 'AC82F5LXJCR22': [['B000G6MBX2', 5]],\n 'A3I7NZC5LUVPPW': [['B000G6MBX2', 5]],\n 'A14B8M117EUBLK': [['B000G6MBX2', 5]],\n 'A228P3VH7SFBHG': [['B000G6MBX2', 2]],\n 'A1AQ2W2R4SOVGN': [['B000G6MBX2', 1]],\n 'A3NCTCNAUYCH6H': [['B000G6MBX2', 3]],\n 'ADD87VB66Y0DQ': [['B000G6MBX2', 5]],\n 'A2GS0QUCV2KVMP': [['B000G6MBX2', 4]],\n 'A1D0P49A1MQO1O': [['B000G6MBX2', 5]],\n 'A3J6N95DIJTPVH': [['B000G6MBX2', 5]],\n 'A3MALNCOVF5COP': [['B000G6MBX2', 5]],\n 'A1ABDQ02BCIGYQ': [['B000G6MBX2', 2]],\n 'A1KBNKFKAWYV7L': [['B000G6MBX2', 5]],\n 'ARLTWKV2AUJ2F': [['B000G6MBX2', 2]],\n 'AGXEFR3PWFEM': [['B001F33UPI', 5]],\n 'ACPABFZ8DBLDG': [['B001F33UPI', 4]],\n 'A2L0EIYNODCZ9U': [['B008BEGP9W', 5]],\n 'A1MJ0MF2OFIU4D': [['B008BEGP9W', 4]],\n 'A1PIDGL665V5QP': [['B002U56JXK', 5]],\n 'ASC04R0BT3TO4': [['B002U56JXK', 5]],\n 'AFSFFRR7JMPZ8': [['B007P2PSKS', 3]],\n 'A2QWGB918P1HU0': [['B004A8QK98', 5]],\n 'A2FZE965O64BXJ': [['B004A8QK98', 1]],\n 'ARQ2DJUU4XB1V': [['B001HTKZ5S', 1]],\n 'A2AF5SS29LC4BB': [['B001HTKZ5S', 2]],\n 'A3KJ6JZ8MWERPG': [['B001HTKZ5S', 1]],\n 'A1USXH72S0TD4B': [['B001HTKZ5S', 1]],\n 'A1ZE87EABE7FVQ': [['B001HTKZ5S', 1]],\n 'A2USOYPY0M1R6X': [['B001HTKZ5S', 1]],\n 'AOHGLP2W3B3I4': [['B001HTKZ5S', 1]],\n 'A388FLQFOEM0IO': [['B001BB3LW6', 5]],\n 'A1ZS6CRXGZX4YE': [['B001BB3LW6', 4]],\n 'A21TGZU9EXJ272': [['B005Y0DXBO', 5]],\n 'A1K7OUOZGT6EG3': [['B001LO4ZWI', 5]],\n 'A2M687HYOW9JFW': [['B001LO4ZWI', 1]],\n 'ANUUF3N6B9NTA': [['B000QWXG9O', 3]],\n 'A7IFA2NZR7YV0': [['B000Y2EJHY', 5]],\n 'A11V8XN8SUHPOV': [['B000Y2EJHY', 5]],\n 'A2DYZJ8D7QD1KE': [['B004WJAUBE', 2]],\n 'A3K0UVMET7SEWE': [['B0035YE9CS', 4]],\n 'A2PXWG7EVCNJ9H': [['B0035YE9CS', 5]],\n 'A7H19XVU8BGKB': [['B0035YE9CS', 5]],\n 'A34O62IDVYW7X9': [['B0035YE9CS', 5]],\n 'A3GK03NK0A7GHQ': [['B0035YE9CS', 5]],\n 'A1MG1L05INR6K': [['B0035YE9CS', 5]],\n 'A2ZVXWYWGSEIVF': [['B0035YE9CS', 5]],\n 'AGXFRN1RZKI4J': [['B0035YE9CS', 5]],\n 'A1Z1RVRG9CFCB7': [['B0035YE9CS', 4]],\n 'A2C9XE9I8RSKNX': [['B006JWQFC0', 5], ['B001IZIC7E', 5]],\n 'A1WWAQFIYLCL0Y': [['B006JWQFC0', 1]],\n 'A3N9477PUE6WMR': [['B009HINRX8', 5]],\n 'ADDBLG0CFY9AI': [['B009HINRX8', 5]],\n 'A1OEL4UZT3KKI4': [['B009HINRX8', 5]],\n 'A39BLB42U7M6BD': [['B009HINRX8', 4]],\n 'ATNQNZEHWMR9U': [['B009HINRX8', 3], ['B002YZESWU', 4]],\n 'A2CAZG1CQ8BQI5': [['B009HINRX8', 5]],\n 'A1MEI40LLXKQF6': [['B0016J4QKO', 5]],\n 'A17PGKUKZB9XD': [['B001EPPE42', 1]],\n 'A3FVAWZNKW9GX': [['B000NF69ZM', 4]],\n 'A2MSYPB6Z5RWK0': [['B000NF69ZM', 5]],\n 'A1USMRT33PBEKJ': [['B000NF69ZM', 4]],\n 'AGE88BOVVQ22J': [['B005YNDIAW', 5]],\n 'A1SNAYITRIW75P': [['B005MZIJBU', 1]],\n 'A3GW42Z2T2K1IF': [['B002KXDK48', 5]],\n 'A2NH6AZFB199O1': [['B000WFM204', 5]],\n 'AQZ9FQYW60HJ4': [['B007ZENY5W', 5]],\n 'A2AZIBY2PKLW96': [['B002ONIVX4', 5]],\n 'A2J0QB01UVSH0Q': [['B002GUWBMC', 1]],\n 'A2CYNULOBYISAZ': [['B0018DQFPC', 3]],\n 'A36MP37DITBU6F': [['B0018DQFPC', 4], ['B000G7UDPY', 5]],\n 'AEC3FERY6U28I': [['B0018DQFPC', 4]],\n 'A5EQO6GVEIT4M': [['B0018DQFPC', 2]],\n 'A18OUU4I29BU9F': [['B0018DQFPC', 1]],\n 'A13HTFH4ZY0NCE': [['B0018DQFPC', 5]],\n 'AAX6FRNBEU9PK': [['B0018DQFPC', 4]],\n 'A3111G3DOYIV2A': [['B0018DQFPC', 2]],\n 'A3JO81AUCLO2U7': [['B0018DQFPC', 2]],\n 'A2V71J7J3DTB5B': [['B000UZMJZO', 1]],\n 'A31WPNRPB608EC': [['B000UZMJZO', 1]],\n 'A1KG9W0FX5STMR': [['B000UZMJZO', 4]],\n 'AZ3FPU1QSFBC6': [['B000UZMJZO', 5]],\n 'A2S244KFX0745K': [['B00285FF6O', 5]],\n 'A2FOXRMJA0T9M7': [['B00285FF6O', 5]],\n 'ARXORJX86X1J2': [['B00285FF6O', 5]],\n 'A372X206KVOQWQ': [['B00285FF6O', 5]],\n 'A1O4VI7N94CK4L': [['B00285FF6O', 3]],\n 'AJTSE4IPHREL4': [['B00285FF6O', 5]],\n 'AQ9M45GUGWJ9N': [['B00285FF6O', 5]],\n 'AXXCSX5J1YGEH': [['B00285FF6O', 3]],\n 'A35RALTOLCAJLH': [['B0067R3Q9M', 5]],\n 'A3AV5XEJ25KVF4': [['B004S0AQHA', 3]],\n 'A1JYQTN8CN3CY2': [['B004S0AQHA', 3]],\n 'A3R66N9FR8HMJ7': [['B004S0AQHA', 5]],\n 'A1ZYO3FOEXVCJS': [['B004S0AQHA', 5]],\n 'A3BH49ZKESHDID': [['B0030C9A60', 5], ['B0031YJ38W', 5]],\n 'A23WVMQ6J7BZ61': [['B0030C9A60', 5]],\n 'A22SF4XQI6LLUS': [['B0030C9A60', 5]],\n 'A30MMUR0DMHYCG': [['B0030C9A60', 5]],\n 'APNMGFU73W7ZC': [['B0030C9A60', 5]],\n 'AH7LB9HXLYL25': [['B004ET7MG8', 4]],\n 'A33VG37SOTA0YS': [['B004ET7MG8', 3]],\n 'AI7W7S3IK45KV': [['B004ET7MG8', 5]],\n 'A3THFR9NVPSUIP': [['B004ET7MG8', 5]],\n 'A26HBK5Y0EL8XQ': [['B003AO5DLO', 5]],\n 'A1O82ZI2GB22WZ': [['B003AO5DLO', 5]],\n 'A228Q0U7S4D88X': [['B003AO5DLO', 5]],\n 'A3BEO6VFOO8FRB': [['B003AO5DLO', 5]],\n 'A30QZ7UKDUJHBB': [['B003AO5DLO', 5]],\n 'A20HTVL7JE0JG2': [['B003AO5DLO', 5]],\n 'A36D2ED3Q81YEQ': [['B003AO5DLO', 4]],\n 'A1DYP6HZQ3AGZU': [['B003AO5DLO', 5]],\n 'A1SCDZZWN02VVN': [['B003AO5DLO', 5]],\n 'A3IQFDK2A3APGE': [['B003AO5DLO', 5]],\n 'A1HHS1SELWW6NY': [['B0007NG56I', 5]],\n 'AMQ8L5JWWDGIA': [['B0007NG56I', 5]],\n 'AN808YPCW2C2F': [['B0007NG56I', 5]],\n 'A3JMLZS0QJCD5N': [['B001EQ55BI', 5]],\n 'A212N0TUR007EK': [['B000IXUISS', 1]],\n 'A19YEVVAPRW51R': [['B000IXUISS', 1]],\n 'A298O68DGTCC48': [['B001ELL9X6', 5]],\n 'A2EOU0LXAOMPG': [['B001ELL9X6', 5]],\n 'A38OVPNVBVUO9Y': [['B001ELL9X6', 5]],\n 'A397CWU6DM3O5G': [['B001ELL9X6', 3]],\n 'A2IRN7AVMV5PPL': [['B001ELL9X6', 5]],\n 'A2SSX0VOP3CHZW': [['B001ELL9X6', 4]],\n 'ALNSBHX0BCMBJ': [['B001ELL9X6', 5]],\n 'A2E3Q8U8364F5P': [['B001ELL9X6', 5]],\n 'A3BXNABYRR66IN': [['B001ELL9X6', 5]],\n 'A1LWILWU3AAFPG': [['B000UWSQT0', 3]],\n 'A1A0JJPS4JAZHI': [['B000UWSQT0', 5]],\n 'AHYRTWABDAG1H': [['B000UWSQT0', 5]],\n 'AL7ASCO6NWTJ6': [['B000UWSQT0', 5]],\n 'A1LO4ME566EKLC': [['B000UWSQT0', 1]],\n 'A4MPDQF63WAEO': [['B0041CKRJC', 4]],\n 'A2EIIDTYMJAEXV': [['B0041CKRJC', 5]],\n 'A13G8CNY7VX57F': [['B0041CKRJC', 5]],\n 'A3OFVFM2H4XQPT': [['B0041CKRJC', 3]],\n 'A2YPBLSWGVCGVL': [['B0007NG568', 5]],\n 'AEFA52M4MT4H6': [['B0007NG568', 5]],\n 'A8AJFY7BX21SS': [['B0007NG568', 5]],\n 'A2BF7B1EJBMNSY': [['B0007NG568', 5]],\n 'A1XDNMQMY5PYFZ': [['B0007NG568', 2]],\n 'AYMV2T86WIXVD': [['B000VKYKTG', 4]],\n 'A1PZN8AP463DG': [['B000VKYKTG', 5]],\n 'A1VMGTCTZUKHV6': [['B000VKYKTG', 5]],\n 'A3CFKMOCU5C5UR': [['B000VKYKTG', 5]],\n 'A1O9O18AE5HIOL': [['B000VKYKTG', 3]],\n 'A3UAHFFUHXJ7Z0': [['B000VKYKTG', 5]],\n 'A3KTOA1CBPBBC0': [['B000VKYKTG', 5]],\n 'A16V3EN9C3K83W': [['B000VKYKTG', 5]],\n 'A32OZFDUK07WLV': [['B000VKYKTG', 4]],\n 'A3EGP5QU70NRKA': [['B000VKYKTG', 5]],\n 'A3LRR63WLQ3N3O': [['B000VKYKTG', 2]],\n 'A35MKC4WRQ8M8F': [['B000VKYKTG', 5]],\n 'A1C1Y0S6QPBM4W': [['B000VKYKTG', 5]],\n 'A11VPI6WLMQ2ZQ': [['B000VKYKTG', 5]],\n 'A9T4HGTPSJ27N': [['B000VKYKTG', 2]],\n 'A1I985U2CK6R97': [['B000HDMUQ2', 1]],\n 'A2E3WMF9RWW2X2': [['B000HDMUQ2', 5]],\n 'AJY5Y3SHROG5C': [['B000HDMUQ2', 2]],\n 'AJW40ZXGT8ITY': [['B000HDMUQ2', 1]],\n 'AGC3K4KSI67RI': [['B000HDMUQ2', 5]],\n 'A30NECNFHHBT3H': [['B000HDMUQ2', 4]],\n 'A1TCNR6ULOEDOQ': [['B000HDMUQ2', 2]],\n 'A3SM576V5911MB': [['B000HDMUQ2', 1]],\n 'A3223MR0RBJG6H': [['B000HDMUQ2', 4]],\n 'A1Y1L56592H2ZX': [['B000HDMUQ2', 4]],\n 'A3NH41GQPFMGQS': [['B000HDMUQ2', 5]],\n 'A2D293ADQ5HCLF': [['B000HDMUQ2', 4]],\n 'A17Q17AR5GN2SH': [['B000HDMUQ2', 5]],\n 'A3W4RLOQQ2R4RT': [['B000HDMUQ2', 4]],\n 'A2AV6EYCQ5OA30': [['B000HDMUQ2', 3]],\n 'AR37BG23UFBF6': [['B000HDMUQ2', 5], ['B000YSTH16', 2]],\n 'A2EZOWS34XH567': [['B000HDMUQ2', 5]],\n 'ACSALMTTUS776': [['B000HDMUQ2', 4]],\n 'A1XKHPDL7JJBK5': [['B000HDMUQ2', 5]],\n 'A1B1QMGK8VYG80': [['B000HDMUQ2', 1]],\n 'A2KHRJZDOQUK4Y': [['B0041QIHC2', 5]],\n 'AK09TO4RIP6IR': [['B0041QIHC2', 5]],\n 'A3L9WUD9W8TAFT': [['B0041QIHC2', 5]],\n 'A2W9I628I6SE1U': [['B001ELL9XG', 4], ['B000VDNGIO', 4]],\n 'AOQT2JCYZ1UWP': [['B001ELL9XG', 2]],\n 'A2U4N0SDPQQ884': [['B001ELL9XG', 4]],\n 'AYZZSRYAIXNOS': [['B002DXZI40', 5]],\n 'A3NHUQ33CFH3VM': [['B000ER6YO0', 3],\n  ['B000ER6YO0', 4],\n  ['B000ER6YO0', 3],\n  ['B000ER6YO0', 3],\n  ['B000ARTNR4', 2],\n  ['B001O2IX8E', 3],\n  ['B001O2IX8E', 4]],\n 'A6LAMY7Z10BBJ': [['B000ER6YO0', 4], ['B000ER6YO0', 5]],\n 'A1K4TZD6TPLKOC': [['B000ER6YO0', 5]],\n 'ABO66JJKQBGID': [['B000ER6YO0', 5]],\n 'A1UTKYFGM2ITLU': [['B000ER6YO0', 1]],\n 'AWBKE3QTB3BWX': [['B000ER6YO0', 4], ['B000ER6YO0', 3]],\n 'ACM3Z9NLSE8S9': [['B000ER6YO0', 5], ['B000ER6YO0', 5], ['B001O2IX8E', 4]],\n 'A7INGAHQIWQ1': [['B000ER6YO0', 5]],\n 'A3TUTIAVU7Q2E2': [['B000ER6YO0', 3], ['B00622CYVI', 2]],\n 'A3MA4VWLFOCJ41': [['B000ER6YO0', 5]],\n 'A26L4JZZ9C1GT5': [['B000ER6YO0', 4]],\n 'AOIW6NFHHPT78': [['B000ER6YO0', 5]],\n 'AB0BXP1IKDBIA': [['B000ER6YO0', 1]],\n 'AH5GCNH82ZU0C': [['B000ER6YO0', 3]],\n 'A3T7LFZQGL24A5': [['B000ER6YO0', 4]],\n 'AYAU6OMJ81Q7Z': [['B000ER6YO0', 5]],\n 'AXKXFB6C9Z9BH': [['B000ER6YO0', 5]],\n 'A1KB35ZYR2Z9RL': [['B000ER6YO0', 5]],\n 'A1ERHEVGUWLRBB': [['B000ER6YO0', 1]],\n 'A39YEZ676YGFI7': [['B000ER6YO0', 5]],\n 'A3SFS8R1T6JJM9': [['B000ER6YO0', 3]],\n 'AKSSGVF9DMJDU': [['B000ER6YO0', 1]],\n 'A2F0WNTW3QQZYS': [['B000ER6YO0', 5]],\n 'A2NQKBC54RAZL5': [['B000ER6YO0', 4], ['B000ER6YO0', 5], ['B00622CYVS', 5]],\n 'A11LJJL1SOH6W0': [['B000ER6YO0', 4]],\n 'A2UY1O1FBGKIE6': [['B000ER6YO0', 5], ['B00622CYVS', 3]],\n 'A11UPZ6LI1UJZY': [['B000ER6YO0', 5]],\n 'A88OW6BJKW3Q3': [['B000ER6YO0', 3]],\n 'A3NXCL9NJTL3TF': [['B000ER6YO0', 5]],\n 'ATIHDHZYNQ0EI': [['B000ER6YO0', 5], ['B000ER6YO0', 5]],\n 'A13EBBWOMC0FUI': [['B000ER6YO0', 5]],\n 'A3HI6N7GG4B2SW': [['B000ER6YO0', 5]],\n 'A34AHOC0OXMR2K': [['B000ER6YO0', 5]],\n 'A2RERXI7RH3CIA': [['B000ER6YO0', 5], ['B000ER1DIM', 5]],\n 'AP8QHMD5LS6KF': [['B000ER6YO0', 5]],\n 'A1ESDLEDR9Y0JX': [['B000ER6YO0', 1]],\n 'A2KTFTRTY0ONWF': [['B000ER6YO0', 2]],\n 'A62UHEAJJE7E': [['B000ER6YO0', 5]],\n 'A2U138G3VKRZSL': [['B000ER6YO0', 1]],\n 'A16XMNOX8N0DOQ': [['B000ER6YO0', 4]],\n 'A20DF2DTZYI8TQ': [['B000ER6YO0', 1]],\n 'APP2IYVGIG5S1': [['B003KDCJYY', 4]],\n 'A3MYS4YDU2QXCP': [['B000MTIYF2', 5]],\n 'A349HIGB6SOU8K': [['B002E0RIHM', 4]],\n 'A2AOA8DG9W8YFD': [['B002E0RIHM', 5]],\n 'A2RUIW6J2R3QEI': [['B002E0RIHM', 5]],\n 'A3QYHVYQLU8MJC': [['B000S806VM', 5]],\n 'A2HF72GRWTRW35': [['B000S806VM', 4]],\n 'AIR7BNZFT751N': [['B000S806VM', 4]],\n 'ATWQP9EU3V9V7': [['B000S806VM', 5]],\n 'A3MMB5RKFP57N1': [['B000S806VM', 5]],\n 'AL4M4T6T3JHY3': [['B000S806VM', 5]],\n 'A3FIUP4KF49FOH': [['B000S806VM', 1]],\n 'A2DN52HYY0X7XM': [['B000S806VM', 5]],\n 'A3UX4TYSZJBJ3R': [['B000S806VM', 2]],\n 'A3S4IWXSZCN9N7': [['B000S806VM', 2]],\n 'ANMPK1PSQDQ2L': [['B000YT5DBS', 2]],\n 'A33B2PH7Y4WC6': [['B005NEXK6Y', 5]],\n 'A737WEUQM1K1H': [['B005NEXK6Y', 3]],\n 'A263ZEDYD50VAT': [['B005NEXK6Y', 5]],\n 'A2VTNMSQLKUPFA': [['B00448SNSA', 1]],\n 'A3NV17B17PFB7G': [['B0002XIB2Y', 5]],\n 'A1O3WOX0KBBV3W': [['B0002XIB2Y', 5]],\n 'A2DRQBOGCTC5HP': [['B0002XIB2Y', 5]],\n 'A1891H0TIXLDXA': [['B0002XIB2Y', 5]],\n 'A3QOSBTILZ84HY': [['B000F0G75W', 5]],\n 'AHMCLSA49GPHK': [['B001EQ4DVQ', 5]],\n 'AXZTWAX77RHPG': [['B001EQ4DVQ', 4]],\n 'A3RB2ZB2KGRZVE': [['B001EQ4DVQ', 5]],\n 'A37FCSX7K7GEFT': [['B001EQ4DVQ', 4]],\n 'A680RUE1FDO8B': [['B001EQ4DVQ', 5]],\n 'A23Q6TN6OK1U51': [['B001EQ4DVQ', 5]],\n 'A38FWXBFJX210N': [['B001EQ4DVQ', 5]],\n 'A1AMCR6ISCN2Z6': [['B001EQ4DVQ', 5]],\n 'A1C3LSDRPLFZ62': [['B004DTNJU2', 5]],\n 'A4D9AIUP1NNIY': [['B004DTNJU2', 5]],\n 'A1YQORA01YBBLS': [['B004DTNJU2', 5]],\n 'A7HKP7RBH88IU': [['B00473OV2E', 5]],\n 'A13KWQGEI9MHG0': [['B00473OV2E', 5]],\n 'A16UWS8G26PDN8': [['B0048IACB2', 5]],\n 'A36GDATSF85X7W': [['B006F2NYI2', 5]],\n 'A36WE3X9G0DZUZ': [['B006F2NYI2', 5]],\n 'A2ZP8BJR5PYLG7': [['B006F2NYI2', 5]],\n 'AFN9QJ7IE89N4': [['B006F2NYI2', 5]],\n 'AN85IOOEI9IYB': [['B006F2NYI2', 5]],\n 'AHSURYHM6ZZXC': [['B006F2NYI2', 5]],\n 'A1KFUVZ3BZ59R1': [['B006F2NYI2', 5]],\n 'A1T5CH6SHV989P': [['B006F2NYI2', 5]],\n 'A1D3F6UI1RTXO0': [['B006F2NYI2', 5]],\n 'AF50D40Y85TV3': [['B006F2NYI2', 5]],\n 'A3G313KLWDG3PW': [['B006F2NYI2', 5]],\n 'A3NIDDT7E7JIFW': [['B006F2NYI2', 1]],\n 'A132DJVI37RB4X': [['B006F2NYI2', 2]],\n 'AO2ZY713W85C7': [['B004A8VV42', 5]],\n 'A1UHRRM3U7T1KR': [['B002XG21MO', 4]],\n 'A2OPG8EOB026ME': [['B002XG21MO', 5]],\n 'A19DSLQN7O8UF7': [['B002XG21MO', 3]],\n 'A1N5SXOJUJGI6A': [['B002XG21MO', 5]],\n 'A2M4EZS28WRWTA': [['B002XG21MO', 5]],\n 'A1TQQQAYEDEY6B': [['B002XG21MO', 5]],\n 'A3MDETK0D5UAIN': [['B006GK4XVA', 3], ['B000EPP56U', 5]],\n 'A2RZFAXI5Y7NLT': [['B0049UVNYY', 3]],\n 'A1N07AUA3B1NUU': [['B0062KYM9C', 2]],\n 'A3QLX72AO0DD5Z': [['B0002MKFEM', 5]],\n 'A3KT9194WQLNLY': [['B0040TPNO0', 5]],\n 'A39TEF7LX44K7Q': [['B0048IK8UC', 1]],\n 'ABFCYFL69Y41H': [['B000LRG11O', 5]],\n 'AUJLWV0FMI5V6': [['B001E6KBSK', 5]],\n 'A26Y64M23OISTO': [['B001E6KBSK', 5]],\n 'A3UZ3WQO1TQ99W': [['B001E6KBSK', 2]],\n 'A16YA8CBBX9CTN': [['B001E6KBSK', 2]],\n 'ATIMPESKY25N5': [['B001E6KBSK', 5]],\n 'A1OC93L36EHWWJ': [['B001E6KBSK', 5]],\n 'A1CLBQQ7A77FSI': [['B001E6KBSK', 5]],\n 'A1J2FKMZPW32HV': [['B001E6KBSK', 5]],\n 'A1W5FYWEWDH25R': [['B001E6KBSK', 5]],\n 'A1JNAVLBMYJHAZ': [['B001E6KBSK', 5]],\n 'A1H0W7S2H5HC04': [['B001E6KBSK', 5]],\n 'A1V1EP514B5H7Y': [['B001E6KBSK', 5]],\n 'A309Z6S89J718F': [['B001E6KBSK', 5]],\n 'A3R8V9EGMG9PXK': [['B001E6KBSK', 5]],\n 'A15KWUBMC2Y0MF': [['B001E6KBSK', 5]],\n 'A29N1H1N0DSOBU': [['B001E6KBSK', 5]],\n 'A23YE95SVEUYZL': [['B001E6KBSK', 5]],\n 'AYWAGB8DM3DS8': [['B001E6KBSK', 5]],\n 'A2RURLGD61WYSS': [['B001E6KBSK', 5]],\n 'A183KZ8DOY7EJ3': [['B001E6KBSK', 5]],\n 'AAN998J28WIWP': [['B001E6KBSK', 5]],\n ...}"
     },
     "execution_count": 6,
     "metadata": {},
     "output_type": "execute_result"
    }
   ],
   "source": [
    "users_products = {}\n",
    "for index, radek in df.iterrows():\n",
    "    product_info = []\n",
    "    user_id = radek.UserId\n",
    "    product_id = radek.ProductId\n",
    "    score = radek.Score\n",
    "    product_info.append(product_id)\n",
    "    product_info.append(score)\n",
    "\n",
    "    if user_id not in users_products:\n",
    "        users_products[user_id] = []\n",
    "    users_products[user_id] += [product_info]\n",
    "users_products"
   ],
   "metadata": {
    "collapsed": false,
    "pycharm": {
     "name": "#%%\n"
    }
   }
  },
  {
   "cell_type": "code",
   "execution_count": 7,
   "outputs": [
    {
     "data": {
      "text/plain": "       ProductId  sum(Score)\n0     B007JFMH8M        4156\n1     B003B3OOPA        2932\n2     B002QWP8H0        2849\n3     B002QWP89S        2849\n4     B002QWHJOU        2849\n...          ...         ...\n5995  B001II46YO          67\n5996  B001GVIRCU          67\n5997  B001FA1SI2          67\n5998  B001EQ5GX0          67\n5999  B001EQ5GC6          67\n\n[6000 rows x 2 columns]",
      "text/html": "<div>\n<style scoped>\n    .dataframe tbody tr th:only-of-type {\n        vertical-align: middle;\n    }\n\n    .dataframe tbody tr th {\n        vertical-align: top;\n    }\n\n    .dataframe thead th {\n        text-align: right;\n    }\n</style>\n<table border=\"1\" class=\"dataframe\">\n  <thead>\n    <tr style=\"text-align: right;\">\n      <th></th>\n      <th>ProductId</th>\n      <th>sum(Score)</th>\n    </tr>\n  </thead>\n  <tbody>\n    <tr>\n      <th>0</th>\n      <td>B007JFMH8M</td>\n      <td>4156</td>\n    </tr>\n    <tr>\n      <th>1</th>\n      <td>B003B3OOPA</td>\n      <td>2932</td>\n    </tr>\n    <tr>\n      <th>2</th>\n      <td>B002QWP8H0</td>\n      <td>2849</td>\n    </tr>\n    <tr>\n      <th>3</th>\n      <td>B002QWP89S</td>\n      <td>2849</td>\n    </tr>\n    <tr>\n      <th>4</th>\n      <td>B002QWHJOU</td>\n      <td>2849</td>\n    </tr>\n    <tr>\n      <th>...</th>\n      <td>...</td>\n      <td>...</td>\n    </tr>\n    <tr>\n      <th>5995</th>\n      <td>B001II46YO</td>\n      <td>67</td>\n    </tr>\n    <tr>\n      <th>5996</th>\n      <td>B001GVIRCU</td>\n      <td>67</td>\n    </tr>\n    <tr>\n      <th>5997</th>\n      <td>B001FA1SI2</td>\n      <td>67</td>\n    </tr>\n    <tr>\n      <th>5998</th>\n      <td>B001EQ5GX0</td>\n      <td>67</td>\n    </tr>\n    <tr>\n      <th>5999</th>\n      <td>B001EQ5GC6</td>\n      <td>67</td>\n    </tr>\n  </tbody>\n</table>\n<p>6000 rows × 2 columns</p>\n</div>"
     },
     "execution_count": 7,
     "metadata": {},
     "output_type": "execute_result"
    }
   ],
   "source": [
    "most_popular = pd.read_sql_query(\"\"\"\n",
    "select ProductId, sum(Score)\n",
    "from Reviews\n",
    "where Score in (3, 4, 5)\n",
    "group by ProductId\n",
    "order by sum(Score) desc\n",
    "limit 6000\n",
    "\"\"\", database)\n",
    "\n",
    "most_popular"
   ],
   "metadata": {
    "collapsed": false,
    "pycharm": {
     "name": "#%%\n"
    }
   }
  },
  {
   "cell_type": "markdown",
   "source": [
    "# Interaction matrix\n",
    "- vytvářím tabulku _im_, kde si ukládám interakce mezi každým uživatelem"
   ],
   "metadata": {
    "collapsed": false,
    "pycharm": {
     "name": "#%% md\n"
    }
   }
  },
  {
   "cell_type": "code",
   "execution_count": 8,
   "outputs": [
    {
     "data": {
      "text/plain": "                    Score                                              \\\nProductId      B00002NCJC B00002Z754 B000084DVR B000084E1U B0000CGFV4   \nUserId                                                                  \nA10012K7DF3SBQ        NaN        NaN        NaN        NaN        NaN   \nA1001TYW5FZYD9        NaN        NaN        NaN        NaN        NaN   \nA102XKYZE9Q9L4        NaN        NaN        NaN        NaN        NaN   \nA10317LUD1C1VJ        NaN        NaN        NaN        NaN        NaN   \nA103EZCS9H8WW1        NaN        NaN        NaN        NaN        NaN   \n...                   ...        ...        ...        ...        ...   \nAZVQMPXZEHQGZ         NaN        NaN        NaN        NaN        NaN   \nAZVR7NPPEDMMN         NaN        NaN        NaN        NaN        NaN   \nAZX7EZIIFMFI7         NaN        NaN        NaN        NaN        NaN   \nAZYJE40XW6MFG         NaN        NaN        NaN        NaN        NaN   \nAZZ7SCDDZR0R3         NaN        NaN        NaN        NaN        NaN   \n\n                                                                       ...  \\\nProductId      B0000D94SZ B0000DC5IY B0000E65W9 B0000GGI00 B0000TU8EO  ...   \nUserId                                                                 ...   \nA10012K7DF3SBQ        NaN        NaN        NaN        NaN        NaN  ...   \nA1001TYW5FZYD9        NaN        NaN        NaN        NaN        NaN  ...   \nA102XKYZE9Q9L4        NaN        NaN        NaN        NaN        NaN  ...   \nA10317LUD1C1VJ        NaN        NaN        NaN        NaN        NaN  ...   \nA103EZCS9H8WW1        NaN        NaN        NaN        NaN        NaN  ...   \n...                   ...        ...        ...        ...        ...  ...   \nAZVQMPXZEHQGZ         NaN        NaN        NaN        NaN        NaN  ...   \nAZVR7NPPEDMMN         NaN        NaN        NaN        NaN        NaN  ...   \nAZX7EZIIFMFI7         NaN        NaN        NaN        NaN        NaN  ...   \nAZYJE40XW6MFG         NaN        NaN        NaN        NaN        NaN  ...   \nAZZ7SCDDZR0R3         NaN        NaN        NaN        NaN        NaN  ...   \n\n                                                                       \\\nProductId      B008YAXFWI B008YGWIZM B009166ECC B0092X7B5S B0092XAMDQ   \nUserId                                                                  \nA10012K7DF3SBQ        NaN        NaN        NaN        NaN        NaN   \nA1001TYW5FZYD9        NaN        NaN        NaN        NaN        NaN   \nA102XKYZE9Q9L4        NaN        NaN        NaN        NaN        NaN   \nA10317LUD1C1VJ        NaN        NaN        NaN        NaN        NaN   \nA103EZCS9H8WW1        NaN        NaN        NaN        NaN        NaN   \n...                   ...        ...        ...        ...        ...   \nAZVQMPXZEHQGZ         NaN        NaN        NaN        NaN        NaN   \nAZVR7NPPEDMMN         NaN        NaN        NaN        NaN        NaN   \nAZX7EZIIFMFI7         NaN        NaN        NaN        NaN        NaN   \nAZYJE40XW6MFG         NaN        NaN        NaN        NaN        NaN   \nAZZ7SCDDZR0R3         NaN        NaN        NaN        NaN        NaN   \n\n                                                                       \nProductId      B0093NIWVO B0096E5196 B009HINRX8 B009UOFU20 B009WSNWC4  \nUserId                                                                 \nA10012K7DF3SBQ        NaN        NaN        NaN        NaN        NaN  \nA1001TYW5FZYD9        NaN        NaN        NaN        NaN        NaN  \nA102XKYZE9Q9L4        NaN        NaN        NaN        NaN        NaN  \nA10317LUD1C1VJ        NaN        NaN        NaN        NaN        NaN  \nA103EZCS9H8WW1        NaN        NaN        NaN        NaN        NaN  \n...                   ...        ...        ...        ...        ...  \nAZVQMPXZEHQGZ         NaN        NaN        NaN        NaN        NaN  \nAZVR7NPPEDMMN         NaN        NaN        NaN        NaN        NaN  \nAZX7EZIIFMFI7         NaN        NaN        NaN        NaN        NaN  \nAZYJE40XW6MFG         NaN        NaN        NaN        NaN        NaN  \nAZZ7SCDDZR0R3         NaN        NaN        NaN        NaN        NaN  \n\n[5747 rows x 907 columns]",
      "text/html": "<div>\n<style scoped>\n    .dataframe tbody tr th:only-of-type {\n        vertical-align: middle;\n    }\n\n    .dataframe tbody tr th {\n        vertical-align: top;\n    }\n\n    .dataframe thead tr th {\n        text-align: left;\n    }\n\n    .dataframe thead tr:last-of-type th {\n        text-align: right;\n    }\n</style>\n<table border=\"1\" class=\"dataframe\">\n  <thead>\n    <tr>\n      <th></th>\n      <th colspan=\"21\" halign=\"left\">Score</th>\n    </tr>\n    <tr>\n      <th>ProductId</th>\n      <th>B00002NCJC</th>\n      <th>B00002Z754</th>\n      <th>B000084DVR</th>\n      <th>B000084E1U</th>\n      <th>B0000CGFV4</th>\n      <th>B0000D94SZ</th>\n      <th>B0000DC5IY</th>\n      <th>B0000E65W9</th>\n      <th>B0000GGI00</th>\n      <th>B0000TU8EO</th>\n      <th>...</th>\n      <th>B008YAXFWI</th>\n      <th>B008YGWIZM</th>\n      <th>B009166ECC</th>\n      <th>B0092X7B5S</th>\n      <th>B0092XAMDQ</th>\n      <th>B0093NIWVO</th>\n      <th>B0096E5196</th>\n      <th>B009HINRX8</th>\n      <th>B009UOFU20</th>\n      <th>B009WSNWC4</th>\n    </tr>\n    <tr>\n      <th>UserId</th>\n      <th></th>\n      <th></th>\n      <th></th>\n      <th></th>\n      <th></th>\n      <th></th>\n      <th></th>\n      <th></th>\n      <th></th>\n      <th></th>\n      <th></th>\n      <th></th>\n      <th></th>\n      <th></th>\n      <th></th>\n      <th></th>\n      <th></th>\n      <th></th>\n      <th></th>\n      <th></th>\n      <th></th>\n    </tr>\n  </thead>\n  <tbody>\n    <tr>\n      <th>A10012K7DF3SBQ</th>\n      <td>NaN</td>\n      <td>NaN</td>\n      <td>NaN</td>\n      <td>NaN</td>\n      <td>NaN</td>\n      <td>NaN</td>\n      <td>NaN</td>\n      <td>NaN</td>\n      <td>NaN</td>\n      <td>NaN</td>\n      <td>...</td>\n      <td>NaN</td>\n      <td>NaN</td>\n      <td>NaN</td>\n      <td>NaN</td>\n      <td>NaN</td>\n      <td>NaN</td>\n      <td>NaN</td>\n      <td>NaN</td>\n      <td>NaN</td>\n      <td>NaN</td>\n    </tr>\n    <tr>\n      <th>A1001TYW5FZYD9</th>\n      <td>NaN</td>\n      <td>NaN</td>\n      <td>NaN</td>\n      <td>NaN</td>\n      <td>NaN</td>\n      <td>NaN</td>\n      <td>NaN</td>\n      <td>NaN</td>\n      <td>NaN</td>\n      <td>NaN</td>\n      <td>...</td>\n      <td>NaN</td>\n      <td>NaN</td>\n      <td>NaN</td>\n      <td>NaN</td>\n      <td>NaN</td>\n      <td>NaN</td>\n      <td>NaN</td>\n      <td>NaN</td>\n      <td>NaN</td>\n      <td>NaN</td>\n    </tr>\n    <tr>\n      <th>A102XKYZE9Q9L4</th>\n      <td>NaN</td>\n      <td>NaN</td>\n      <td>NaN</td>\n      <td>NaN</td>\n      <td>NaN</td>\n      <td>NaN</td>\n      <td>NaN</td>\n      <td>NaN</td>\n      <td>NaN</td>\n      <td>NaN</td>\n      <td>...</td>\n      <td>NaN</td>\n      <td>NaN</td>\n      <td>NaN</td>\n      <td>NaN</td>\n      <td>NaN</td>\n      <td>NaN</td>\n      <td>NaN</td>\n      <td>NaN</td>\n      <td>NaN</td>\n      <td>NaN</td>\n    </tr>\n    <tr>\n      <th>A10317LUD1C1VJ</th>\n      <td>NaN</td>\n      <td>NaN</td>\n      <td>NaN</td>\n      <td>NaN</td>\n      <td>NaN</td>\n      <td>NaN</td>\n      <td>NaN</td>\n      <td>NaN</td>\n      <td>NaN</td>\n      <td>NaN</td>\n      <td>...</td>\n      <td>NaN</td>\n      <td>NaN</td>\n      <td>NaN</td>\n      <td>NaN</td>\n      <td>NaN</td>\n      <td>NaN</td>\n      <td>NaN</td>\n      <td>NaN</td>\n      <td>NaN</td>\n      <td>NaN</td>\n    </tr>\n    <tr>\n      <th>A103EZCS9H8WW1</th>\n      <td>NaN</td>\n      <td>NaN</td>\n      <td>NaN</td>\n      <td>NaN</td>\n      <td>NaN</td>\n      <td>NaN</td>\n      <td>NaN</td>\n      <td>NaN</td>\n      <td>NaN</td>\n      <td>NaN</td>\n      <td>...</td>\n      <td>NaN</td>\n      <td>NaN</td>\n      <td>NaN</td>\n      <td>NaN</td>\n      <td>NaN</td>\n      <td>NaN</td>\n      <td>NaN</td>\n      <td>NaN</td>\n      <td>NaN</td>\n      <td>NaN</td>\n    </tr>\n    <tr>\n      <th>...</th>\n      <td>...</td>\n      <td>...</td>\n      <td>...</td>\n      <td>...</td>\n      <td>...</td>\n      <td>...</td>\n      <td>...</td>\n      <td>...</td>\n      <td>...</td>\n      <td>...</td>\n      <td>...</td>\n      <td>...</td>\n      <td>...</td>\n      <td>...</td>\n      <td>...</td>\n      <td>...</td>\n      <td>...</td>\n      <td>...</td>\n      <td>...</td>\n      <td>...</td>\n      <td>...</td>\n    </tr>\n    <tr>\n      <th>AZVQMPXZEHQGZ</th>\n      <td>NaN</td>\n      <td>NaN</td>\n      <td>NaN</td>\n      <td>NaN</td>\n      <td>NaN</td>\n      <td>NaN</td>\n      <td>NaN</td>\n      <td>NaN</td>\n      <td>NaN</td>\n      <td>NaN</td>\n      <td>...</td>\n      <td>NaN</td>\n      <td>NaN</td>\n      <td>NaN</td>\n      <td>NaN</td>\n      <td>NaN</td>\n      <td>NaN</td>\n      <td>NaN</td>\n      <td>NaN</td>\n      <td>NaN</td>\n      <td>NaN</td>\n    </tr>\n    <tr>\n      <th>AZVR7NPPEDMMN</th>\n      <td>NaN</td>\n      <td>NaN</td>\n      <td>NaN</td>\n      <td>NaN</td>\n      <td>NaN</td>\n      <td>NaN</td>\n      <td>NaN</td>\n      <td>NaN</td>\n      <td>NaN</td>\n      <td>NaN</td>\n      <td>...</td>\n      <td>NaN</td>\n      <td>NaN</td>\n      <td>NaN</td>\n      <td>NaN</td>\n      <td>NaN</td>\n      <td>NaN</td>\n      <td>NaN</td>\n      <td>NaN</td>\n      <td>NaN</td>\n      <td>NaN</td>\n    </tr>\n    <tr>\n      <th>AZX7EZIIFMFI7</th>\n      <td>NaN</td>\n      <td>NaN</td>\n      <td>NaN</td>\n      <td>NaN</td>\n      <td>NaN</td>\n      <td>NaN</td>\n      <td>NaN</td>\n      <td>NaN</td>\n      <td>NaN</td>\n      <td>NaN</td>\n      <td>...</td>\n      <td>NaN</td>\n      <td>NaN</td>\n      <td>NaN</td>\n      <td>NaN</td>\n      <td>NaN</td>\n      <td>NaN</td>\n      <td>NaN</td>\n      <td>NaN</td>\n      <td>NaN</td>\n      <td>NaN</td>\n    </tr>\n    <tr>\n      <th>AZYJE40XW6MFG</th>\n      <td>NaN</td>\n      <td>NaN</td>\n      <td>NaN</td>\n      <td>NaN</td>\n      <td>NaN</td>\n      <td>NaN</td>\n      <td>NaN</td>\n      <td>NaN</td>\n      <td>NaN</td>\n      <td>NaN</td>\n      <td>...</td>\n      <td>NaN</td>\n      <td>NaN</td>\n      <td>NaN</td>\n      <td>NaN</td>\n      <td>NaN</td>\n      <td>NaN</td>\n      <td>NaN</td>\n      <td>NaN</td>\n      <td>NaN</td>\n      <td>NaN</td>\n    </tr>\n    <tr>\n      <th>AZZ7SCDDZR0R3</th>\n      <td>NaN</td>\n      <td>NaN</td>\n      <td>NaN</td>\n      <td>NaN</td>\n      <td>NaN</td>\n      <td>NaN</td>\n      <td>NaN</td>\n      <td>NaN</td>\n      <td>NaN</td>\n      <td>NaN</td>\n      <td>...</td>\n      <td>NaN</td>\n      <td>NaN</td>\n      <td>NaN</td>\n      <td>NaN</td>\n      <td>NaN</td>\n      <td>NaN</td>\n      <td>NaN</td>\n      <td>NaN</td>\n      <td>NaN</td>\n      <td>NaN</td>\n    </tr>\n  </tbody>\n</table>\n<p>5747 rows × 907 columns</p>\n</div>"
     },
     "execution_count": 8,
     "metadata": {},
     "output_type": "execute_result"
    }
   ],
   "source": [
    "im = df[['UserId', 'ProductId', 'Score']] #interaction matrix\n",
    "im = im.drop_duplicates(['UserId', 'ProductId'])\n",
    "im = im.pivot(index='UserId', columns='ProductId')\n",
    "im"
   ],
   "metadata": {
    "collapsed": false,
    "pycharm": {
     "name": "#%%\n"
    }
   }
  },
  {
   "cell_type": "code",
   "execution_count": 9,
   "outputs": [
    {
     "name": "stdout",
     "output_type": "stream",
     "text": [
      "[[nan nan nan ... nan nan nan]\n",
      " [nan nan nan ... nan nan nan]\n",
      " [nan nan nan ... nan nan nan]\n",
      " ...\n",
      " [nan nan nan ... nan nan nan]\n",
      " [nan nan nan ... nan nan nan]\n",
      " [nan nan nan ... nan nan nan]]\n"
     ]
    }
   ],
   "source": [
    "X = im.values\n",
    "print(X)"
   ],
   "metadata": {
    "collapsed": false,
    "pycharm": {
     "name": "#%%\n"
    }
   }
  },
  {
   "cell_type": "code",
   "execution_count": 10,
   "outputs": [
    {
     "data": {
      "text/plain": "array([[0., 0., 0., ..., 0., 0., 0.],\n       [0., 0., 0., ..., 0., 0., 0.],\n       [0., 0., 0., ..., 0., 0., 0.],\n       ...,\n       [0., 0., 0., ..., 0., 0., 0.],\n       [0., 0., 0., ..., 0., 0., 0.],\n       [0., 0., 0., ..., 0., 0., 0.]])"
     },
     "execution_count": 10,
     "metadata": {},
     "output_type": "execute_result"
    }
   ],
   "source": [
    "for a in range(0, len(X)):\n",
    "    aa = X[a]\n",
    "    for b in range(0, len(aa)):\n",
    "        if math.isnan(X[a][b]):\n",
    "            X[a][b] = 0\n",
    "X"
   ],
   "metadata": {
    "collapsed": false,
    "pycharm": {
     "name": "#%%\n"
    }
   }
  },
  {
   "cell_type": "markdown",
   "source": [
    "# NEAREST NEIGHBORS\n",
    "- hledám uživatele, kteří si kupovali nejpodobnější produkty a byli podobně spokojení (každého uživatele si reprezentujeme jako vektor určený jeho hodnoceními pro různé produkty - potom sousedy můžeme najít jednoduše nalezením nejbližších vektorů)\n",
    "- lze zvolit různé metriky na určení vzdálenosti vektorů - já pro jednoduchost používám funkci _NearestNeighbors_ z knihovny _sklearn.neighbors_, která používá euklidovskou normu\n",
    "- sousedy každého uživatele si ukládám do dictionary _nearest_neighbors_ (dictionary používám kvůli dobré časové složitosti)"
   ],
   "metadata": {
    "collapsed": false,
    "pycharm": {
     "name": "#%% md\n"
    }
   }
  },
  {
   "cell_type": "code",
   "execution_count": 11,
   "outputs": [
    {
     "data": {
      "text/plain": "NearestNeighbors(algorithm='ball_tree')",
      "text/html": "<style>#sk-container-id-1 {color: black;background-color: white;}#sk-container-id-1 pre{padding: 0;}#sk-container-id-1 div.sk-toggleable {background-color: white;}#sk-container-id-1 label.sk-toggleable__label {cursor: pointer;display: block;width: 100%;margin-bottom: 0;padding: 0.3em;box-sizing: border-box;text-align: center;}#sk-container-id-1 label.sk-toggleable__label-arrow:before {content: \"▸\";float: left;margin-right: 0.25em;color: #696969;}#sk-container-id-1 label.sk-toggleable__label-arrow:hover:before {color: black;}#sk-container-id-1 div.sk-estimator:hover label.sk-toggleable__label-arrow:before {color: black;}#sk-container-id-1 div.sk-toggleable__content {max-height: 0;max-width: 0;overflow: hidden;text-align: left;background-color: #f0f8ff;}#sk-container-id-1 div.sk-toggleable__content pre {margin: 0.2em;color: black;border-radius: 0.25em;background-color: #f0f8ff;}#sk-container-id-1 input.sk-toggleable__control:checked~div.sk-toggleable__content {max-height: 200px;max-width: 100%;overflow: auto;}#sk-container-id-1 input.sk-toggleable__control:checked~label.sk-toggleable__label-arrow:before {content: \"▾\";}#sk-container-id-1 div.sk-estimator input.sk-toggleable__control:checked~label.sk-toggleable__label {background-color: #d4ebff;}#sk-container-id-1 div.sk-label input.sk-toggleable__control:checked~label.sk-toggleable__label {background-color: #d4ebff;}#sk-container-id-1 input.sk-hidden--visually {border: 0;clip: rect(1px 1px 1px 1px);clip: rect(1px, 1px, 1px, 1px);height: 1px;margin: -1px;overflow: hidden;padding: 0;position: absolute;width: 1px;}#sk-container-id-1 div.sk-estimator {font-family: monospace;background-color: #f0f8ff;border: 1px dotted black;border-radius: 0.25em;box-sizing: border-box;margin-bottom: 0.5em;}#sk-container-id-1 div.sk-estimator:hover {background-color: #d4ebff;}#sk-container-id-1 div.sk-parallel-item::after {content: \"\";width: 100%;border-bottom: 1px solid gray;flex-grow: 1;}#sk-container-id-1 div.sk-label:hover label.sk-toggleable__label {background-color: #d4ebff;}#sk-container-id-1 div.sk-serial::before {content: \"\";position: absolute;border-left: 1px solid gray;box-sizing: border-box;top: 0;bottom: 0;left: 50%;z-index: 0;}#sk-container-id-1 div.sk-serial {display: flex;flex-direction: column;align-items: center;background-color: white;padding-right: 0.2em;padding-left: 0.2em;position: relative;}#sk-container-id-1 div.sk-item {position: relative;z-index: 1;}#sk-container-id-1 div.sk-parallel {display: flex;align-items: stretch;justify-content: center;background-color: white;position: relative;}#sk-container-id-1 div.sk-item::before, #sk-container-id-1 div.sk-parallel-item::before {content: \"\";position: absolute;border-left: 1px solid gray;box-sizing: border-box;top: 0;bottom: 0;left: 50%;z-index: -1;}#sk-container-id-1 div.sk-parallel-item {display: flex;flex-direction: column;z-index: 1;position: relative;background-color: white;}#sk-container-id-1 div.sk-parallel-item:first-child::after {align-self: flex-end;width: 50%;}#sk-container-id-1 div.sk-parallel-item:last-child::after {align-self: flex-start;width: 50%;}#sk-container-id-1 div.sk-parallel-item:only-child::after {width: 0;}#sk-container-id-1 div.sk-dashed-wrapped {border: 1px dashed gray;margin: 0 0.4em 0.5em 0.4em;box-sizing: border-box;padding-bottom: 0.4em;background-color: white;}#sk-container-id-1 div.sk-label label {font-family: monospace;font-weight: bold;display: inline-block;line-height: 1.2em;}#sk-container-id-1 div.sk-label-container {text-align: center;}#sk-container-id-1 div.sk-container {/* jupyter's `normalize.less` sets `[hidden] { display: none; }` but bootstrap.min.css set `[hidden] { display: none !important; }` so we also need the `!important` here to be able to override the default hidden behavior on the sphinx rendered scikit-learn.org. See: https://github.com/scikit-learn/scikit-learn/issues/21755 */display: inline-block !important;position: relative;}#sk-container-id-1 div.sk-text-repr-fallback {display: none;}</style><div id=\"sk-container-id-1\" class=\"sk-top-container\"><div class=\"sk-text-repr-fallback\"><pre>NearestNeighbors(algorithm=&#x27;ball_tree&#x27;)</pre><b>In a Jupyter environment, please rerun this cell to show the HTML representation or trust the notebook. <br />On GitHub, the HTML representation is unable to render, please try loading this page with nbviewer.org.</b></div><div class=\"sk-container\" hidden><div class=\"sk-item\"><div class=\"sk-estimator sk-toggleable\"><input class=\"sk-toggleable__control sk-hidden--visually\" id=\"sk-estimator-id-1\" type=\"checkbox\" checked><label for=\"sk-estimator-id-1\" class=\"sk-toggleable__label sk-toggleable__label-arrow\">NearestNeighbors</label><div class=\"sk-toggleable__content\"><pre>NearestNeighbors(algorithm=&#x27;ball_tree&#x27;)</pre></div></div></div></div></div>"
     },
     "execution_count": 11,
     "metadata": {},
     "output_type": "execute_result"
    }
   ],
   "source": [
    "knn = NearestNeighbors(n_neighbors=5, algorithm='ball_tree').fit(X)\n",
    "knn"
   ],
   "metadata": {
    "collapsed": false,
    "pycharm": {
     "name": "#%%\n"
    }
   }
  },
  {
   "cell_type": "code",
   "execution_count": null,
   "outputs": [],
   "source": [
    "distances, indices = knn.kneighbors(X)\n",
    "indices"
   ],
   "metadata": {
    "collapsed": false,
    "pycharm": {
     "name": "#%%\n",
     "is_executing": true
    }
   }
  },
  {
   "cell_type": "code",
   "execution_count": null,
   "outputs": [],
   "source": [
    "distances"
   ],
   "metadata": {
    "collapsed": false,
    "pycharm": {
     "name": "#%%\n",
     "is_executing": true
    }
   }
  },
  {
   "cell_type": "code",
   "execution_count": null,
   "outputs": [],
   "source": [
    "knn_graph = knn.kneighbors_graph(X, mode='distance').toarray()\n",
    "# metric='cosine', include_self=False\n",
    "knn_graph"
   ],
   "metadata": {
    "collapsed": false,
    "pycharm": {
     "name": "#%%\n",
     "is_executing": true
    }
   }
  },
  {
   "cell_type": "code",
   "execution_count": null,
   "outputs": [],
   "source": [
    "nearest_neighbors = {}\n",
    "for i in range(knn_graph.shape[0]):\n",
    "    user_id = im.index.values[i]\n",
    "    x = []\n",
    "\n",
    "    for j in range(knn_graph.shape[1]):\n",
    "        if knn_graph[i][j] != 0.0:\n",
    "            neighbor_id = im.index.values[j]\n",
    "            x.append(neighbor_id)\n",
    "\n",
    "    nearest_neighbors[user_id] = x\n",
    "\n",
    "nearest_neighbors"
   ],
   "metadata": {
    "collapsed": false,
    "pycharm": {
     "name": "#%%\n",
     "is_executing": true
    }
   }
  },
  {
   "cell_type": "code",
   "execution_count": null,
   "outputs": [],
   "source": [
    "users_products"
   ],
   "metadata": {
    "collapsed": false,
    "pycharm": {
     "name": "#%%\n",
     "is_executing": true
    }
   }
  },
  {
   "cell_type": "code",
   "execution_count": null,
   "outputs": [],
   "source": [
    "# users_with_rec_prods = []\n",
    "recommendations = {}\n",
    "for user_id in nearest_neighbors.keys():\n",
    "    recomms_priorities = {}\n",
    "    if user_id not in recommendations:\n",
    "        recommendations[user_id] = []\n",
    "    already_bought = []\n",
    "    for item in users_products[user_id]:\n",
    "        already_bought.append(item[0])\n",
    "\n",
    "    for neighbor in nearest_neighbors[user_id]:\n",
    "        for product in users_products[neighbor]:\n",
    "            if product[0] not in already_bought: #pokud uzivatel jeste produkt nekoupil\n",
    "                if not int(product[1]) < 3: #pokud se sousedovi film libil\n",
    "                    if not product[0] in recomms_priorities:\n",
    "                        recomms_priorities[product[0]] = 0\n",
    "                    recomms_priorities[product[0]] += int(product[1])\n",
    "\n",
    "    sorted_recomms = {k: v for k, v in sorted(recomms_priorities.items(), key=lambda item: item[1])}\n",
    "\n",
    "    for s in range(10):\n",
    "        for item in sorted_recomms.items():\n",
    "            recommendations[user_id].append(item[0])\n",
    "        if s == len(sorted_recomms.items())-1:\n",
    "            break\n",
    "        if user_id not in users_with_rec_prods:\n",
    "            users_with_rec_prods.append(user_id)"
   ],
   "metadata": {
    "collapsed": false,
    "pycharm": {
     "name": "#%%\n",
     "is_executing": true
    }
   }
  },
  {
   "cell_type": "markdown",
   "source": [
    "# INPUT\n",
    "- Po zadání _UserId_ a požadovaného počtu produktů k doporučení budou vráceny produkty seřazené od toho nejrelevantnějšího."
   ],
   "metadata": {
    "collapsed": false,
    "pycharm": {
     "name": "#%% md\n"
    }
   }
  },
  {
   "cell_type": "code",
   "execution_count": null,
   "outputs": [],
   "source": [
    "user_id = input('Enter the Id of user you wish to receive recommendations for (for example A2W3ABLWMJ84NS, A2WH53MCZ2WE3, A2WJH1QD0M9X51, A2WVF9ZQ068DN0, A2ZNLPYMZOXLGX) : ')\n",
    "n = input('Enter number of recommended products: ')\n",
    "\n",
    "def main(user_id, n):\n",
    "    n = int(n)\n",
    "    to_return = []\n",
    "    for recommendation in recommendations[user_id]:\n",
    "        if len(to_return) < n:\n",
    "            to_return.append(recommendation)\n",
    "    for recommendation in most_popular.ProductId:\n",
    "        if len(to_return) < n:\n",
    "            to_return.append(recommendation)\n",
    "    return to_return\n",
    "\n",
    "main(user_id, n)"
   ],
   "metadata": {
    "collapsed": false,
    "pycharm": {
     "name": "#%%\n",
     "is_executing": true
    }
   }
  },
  {
   "cell_type": "code",
   "execution_count": null,
   "outputs": [],
   "source": [],
   "metadata": {
    "collapsed": false,
    "pycharm": {
     "name": "#%%\n",
     "is_executing": true
    }
   }
  },
  {
   "cell_type": "code",
   "execution_count": null,
   "outputs": [],
   "source": [],
   "metadata": {
    "collapsed": false,
    "pycharm": {
     "name": "#%%\n",
     "is_executing": true
    }
   }
  }
 ],
 "metadata": {
  "kernelspec": {
   "display_name": "Python 3",
   "language": "python",
   "name": "python3"
  },
  "language_info": {
   "codemirror_mode": {
    "name": "ipython",
    "version": 2
   },
   "file_extension": ".py",
   "mimetype": "text/x-python",
   "name": "python",
   "nbconvert_exporter": "python",
   "pygments_lexer": "ipython2",
   "version": "2.7.6"
  }
 },
 "nbformat": 4,
 "nbformat_minor": 0
}